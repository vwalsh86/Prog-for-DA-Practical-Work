{
 "cells": [
  {
   "cell_type": "markdown",
   "metadata": {},
   "source": [
    "<a id='top'></a>"
   ]
  },
  {
   "cell_type": "markdown",
   "metadata": {},
   "source": [
    "# A study on the numpy.random package"
   ]
  },
  {
   "cell_type": "markdown",
   "metadata": {},
   "source": [
    "![title](numpy.jpg)"
   ]
  },
  {
   "cell_type": "markdown",
   "metadata": {},
   "source": [
    "## Submitted by: Valerie Walsh - G00364748"
   ]
  },
  {
   "cell_type": "markdown",
   "metadata": {},
   "source": [
    "### Assignment: Programming for Data Analysis"
   ]
  },
  {
   "cell_type": "markdown",
   "metadata": {},
   "source": [
    "### Submission Date: 9th November 2018"
   ]
  },
  {
   "cell_type": "markdown",
   "metadata": {},
   "source": [
    "-------------------------------------------------\n",
    "-------------------------------------------"
   ]
  },
  {
   "cell_type": "markdown",
   "metadata": {},
   "source": [
    "## Table of Contents\n",
    "### [Introduction](#introduction)\n",
    "### [Statement of Work](#statement)\n",
    "### [Background](#background)\n",
    "### [Aim of Investigation](#investigation)\n",
    "### [Findings](#findings)\n",
    "### [Summary](#summary)\n",
    "### [Technology Used](#technology)\n",
    "### [References](#references)"
   ]
  },
  {
   "cell_type": "markdown",
   "metadata": {},
   "source": [
    "<a id=\"introduction\"></a>"
   ]
  },
  {
   "cell_type": "markdown",
   "metadata": {},
   "source": [
    "## Introduction"
   ]
  },
  {
   "cell_type": "markdown",
   "metadata": {},
   "source": [
    "I have created this repository as apart of my ongoing studes with Data Analytics.\n",
    "This repository contains my investigation and findings relating to the numpy.random package, which is a sub-package of NumPy. <br>\n",
    "\n",
    "It is my intention to review various areas of the package using its functions and explaining the outputs and their meaning."
   ]
  },
  {
   "cell_type": "markdown",
   "metadata": {},
   "source": [
    "------------------------------------------"
   ]
  },
  {
   "cell_type": "markdown",
   "metadata": {},
   "source": [
    "<a id=\"statement\"></a>"
   ]
  },
  {
   "cell_type": "markdown",
   "metadata": {},
   "source": [
    "## Statement of Work"
   ]
  },
  {
   "cell_type": "markdown",
   "metadata": {},
   "source": [
    "This is a statement to confirm that the work submitted within this repository is my own work. \n",
    "Any information sourced online or 3rd party has been referenced appropriately. \n",
    "I can therefore confirm that my submitted work is in line with the Quality Assurance Framework of GMIT."
   ]
  },
  {
   "cell_type": "markdown",
   "metadata": {},
   "source": [
    "-------------------------------"
   ]
  },
  {
   "cell_type": "markdown",
   "metadata": {},
   "source": [
    "<a id=\"background\"></a>"
   ]
  },
  {
   "cell_type": "markdown",
   "metadata": {},
   "source": [
    "## <a id=\"background\">Background</a>"
   ]
  },
  {
   "cell_type": "markdown",
   "metadata": {},
   "source": [
    "The creation of NumPy came when there was a gap in the Python language. It was not designed for numerical computing so a need was fulfilled in 1995.<br>\n",
    "\n",
    "<i>\"The Python programming language was not initially designed for numerical computing, but attracted the attention of the scientific and engineering community early on, so that a special interest group called matrix-sig was founded in 1995 with the aim of defining an array computing package. Among its members was Python designer and maintainer Guido van Rossum, who implemented extensions to Python's syntax (in particular the indexing syntax) to make array computing easier.\"</i><br> [3]\n",
    "<br><br>\n",
    "<b>Definition of NumPy:</b><br>\n",
    "<i>\"NumPy is the fundamental package for scientific computing in Python. It is a Python library that provides a multidimensional array object, various derived objects (such as masked arrays and matrices), and an assortment of routines for fast operations on arrays, including mathematicala, logical, shape manipulation, sorting, selecting, I/O, discrete Fourier transforms, basic linear algebra, basic statistical operations, random simulation and much more.\"</i> [4]\n",
    "<br>\n",
    "<br>\n",
    "The numpy.random sub-package is used to generate random numbers and allow random sampling to take place.<br>\n",
    "One website described the random package as 'linear algebra'.[3]"
   ]
  },
  {
   "cell_type": "markdown",
   "metadata": {},
   "source": [
    "------------------------------------"
   ]
  },
  {
   "cell_type": "markdown",
   "metadata": {},
   "source": [
    "<a id=\"investigation\"></a>"
   ]
  },
  {
   "cell_type": "markdown",
   "metadata": {},
   "source": [
    "## Aim of Investigation"
   ]
  },
  {
   "cell_type": "markdown",
   "metadata": {},
   "source": [
    "It is my intention with this repository to investigate and satisfy these following conditions:\n",
    "\n",
    "<ol>\n",
    "  <li>Define the overall purpose of the numpy.random package</li>\n",
    "  <li>Explain the use of the \"Simple Random Data\" & \"Permutations\" functions</li>\n",
    "  <li>Explain the use and purpose of at least 5 \"Distributions\" functions</li>\n",
    "  <li>Explain the use of seeds inn generating pseudorandom numbers</li>\n",
    "</ol>"
   ]
  },
  {
   "cell_type": "markdown",
   "metadata": {},
   "source": [
    "--------------------------------"
   ]
  },
  {
   "cell_type": "markdown",
   "metadata": {},
   "source": [
    "<a id=\"findings\"></a>"
   ]
  },
  {
   "cell_type": "markdown",
   "metadata": {},
   "source": [
    "## Findings"
   ]
  },
  {
   "cell_type": "markdown",
   "metadata": {},
   "source": [
    "To begin, there are certain libraries and packages that were required for the below scripts to run. <br>\n",
    "The following as what I imported at the start to ensure I had all available libraries to complete the functions I outputted.<br>"
   ]
  },
  {
   "cell_type": "code",
   "execution_count": 2,
   "metadata": {},
   "outputs": [],
   "source": [
    "import numpy as np\n",
    "import matplotlib.pyplot as plt\n",
    "import seaborn as sns"
   ]
  },
  {
   "cell_type": "markdown",
   "metadata": {},
   "source": [
    "### 1. The overall purpose of the package"
   ]
  },
  {
   "cell_type": "markdown",
   "metadata": {},
   "source": [
    "### The numpy.random package is a submodel of <b><i>NumPy</b></i> itself.<br>\n",
    "\n",
    "One website described the random package as 'linear algebra'. [3]\n",
    "\n",
    "<br>\n",
    "Definition of NumPy: <br>\n",
    "<i>\"NumPy is the fundamental package for scientific computing in Python. It is a Python library that provides a multidimensional array object, various derived objects (such as masked arrays and matrices), and an assortment of routines for fast operations on arrays, including mathematicala, logical, shape manipulation, sorting, selecting, I/O, discrete Fourier transforms, basic linear algebra, basic statistical operations, random simulation and much more.\"</i>[4]  <br>\n",
    "<br>\n",
    "Numpy.random is used to generate random numbers, therefore allowing random sampling to take place. \n",
    "<br>\n",
    "Depending on the nature of the investigation or the type of output required there are different options within the package:\n",
    "<ul>\n",
    "    <li>Simple random data</li>\n",
    "    <li>Permutations</li>\n",
    "    <li>Distributions</li>\n",
    "    <li>Random generator</li>\n",
    "</ul>\n",
    "\n",
    "[5]\n",
    "\n",
    "It is worth noting at this point that a computer is not capable of generating random data on its own. In order for it to output 'random' responses, it relies on algorithmns which are created by humans. <br>\n",
    "Therefore it is not always the case that random outputs are indeed random. If the seed is known (starting point of a calculation), then the output can be determined. This will be discussed in more detail further into my repository."
   ]
  },
  {
   "cell_type": "markdown",
   "metadata": {},
   "source": [
    "----------------------------"
   ]
  },
  {
   "cell_type": "markdown",
   "metadata": {},
   "source": [
    "### 2. \"Simple Random Data\" & \"Permutations\" functions"
   ]
  },
  {
   "cell_type": "markdown",
   "metadata": {},
   "source": [
    "### Simple Random Data\n",
    "\n",
    "The 'Simple Random Data' suite contains functions that would be the most common and basic of the package. <br>\n",
    "It's functions allow the generation of pseudorandom random data.\n",
    "<br>\n",
    "With the Simple Random functions they allow for basic computation and outputs, but they also have the ability for extension.\n",
    "<br>\n",
    "For example: Settings limitations, requesting multiple array outputs, having a min and max when requesting integers. <br>\n",
    "These will be visible in the following functions which I have chosen to show in my repository.\n",
    "\n",
    "##### randint\n",
    "The first function I want to explain is the Random Integer function (randint):<br><br>\n",
    "<i>\"This function takes two arguments: the start and the end of the range for the generated integer values. Random integers are generated within and including the start and end of range values, specifically in the interval [start, end]. Random values are drawn from a uniform distribution.\"</i>[6]\n",
    "\n",
    "In this first function, I have ran the <i>randint</i> function where I am asking for a single number to be outputted between the range of -5 - 0.\n",
    "\n",
    "** Because I have already imported numpy above, I do not need to add it into this code or future codes."
   ]
  },
  {
   "cell_type": "code",
   "execution_count": 4,
   "metadata": {},
   "outputs": [
    {
     "data": {
      "text/plain": [
       "-5"
      ]
     },
     "execution_count": 4,
     "metadata": {},
     "output_type": "execute_result"
    }
   ],
   "source": [
    "np.random.randint(-5, 0)"
   ]
  },
  {
   "cell_type": "markdown",
   "metadata": {},
   "source": [
    "For this second example of the <i>randint</i> function I have requested multiple outputs to be given. <br>\n",
    "The guides for this code is: numbers ranging from 0-20 within 3 rows and 5 colums. <br>\n",
    "\n",
    "This can be altered to whatever your needs are, for example: (100, 2, 8) will give you an output with numbers ranging from 0-100 within 2 colums and 8 rows.\n",
    "\n",
    "Simple random function within [6] <br>\n",
    " rand examples [7]"
   ]
  },
  {
   "cell_type": "code",
   "execution_count": 29,
   "metadata": {},
   "outputs": [
    {
     "data": {
      "text/plain": [
       "array([[10, 17, 11],\n",
       "       [16,  9, 10],\n",
       "       [ 0, 19, 13],\n",
       "       [ 3,  6,  6],\n",
       "       [14,  6, 16]])"
      ]
     },
     "execution_count": 29,
     "metadata": {},
     "output_type": "execute_result"
    }
   ],
   "source": [
    "np.random.randint(20, size=(5, 3))"
   ]
  },
  {
   "cell_type": "markdown",
   "metadata": {},
   "source": [
    "##### rand\n",
    "A second function of <i>Simple Date</i> that I wish to investigate is the <i>rand</i> function. This functions is defined as giving out random values in a given shape.<br>\n",
    "<i>\"Create an array of the given shape and populate it with random samples from a uniform distribution over [0, 1).\" </i>\n",
    "<br><br>\n",
    "When the function is ran 'as is' without any additional requirements, it will generate a single random number from 0 to 1 (but not including 1)."
   ]
  },
  {
   "cell_type": "code",
   "execution_count": 76,
   "metadata": {},
   "outputs": [
    {
     "data": {
      "text/plain": [
       "0.977180436681277"
      ]
     },
     "execution_count": 76,
     "metadata": {},
     "output_type": "execute_result"
    }
   ],
   "source": [
    "np.random.rand()"
   ]
  },
  {
   "cell_type": "markdown",
   "metadata": {},
   "source": [
    "When I run this function again but this time I request multiple outputs within rows and columns, I will get the following output, again the output figures will range between 0-1, excluding 1."
   ]
  },
  {
   "cell_type": "code",
   "execution_count": 5,
   "metadata": {},
   "outputs": [
    {
     "data": {
      "text/plain": [
       "array([[0.41986241, 0.07601983, 0.02786593, 0.67651956, 0.14633109],\n",
       "       [0.01796354, 0.86590034, 0.8691241 , 0.095379  , 0.37999842],\n",
       "       [0.63093873, 0.37329952, 0.99456404, 0.57653173, 0.79115831]])"
      ]
     },
     "execution_count": 5,
     "metadata": {},
     "output_type": "execute_result"
    }
   ],
   "source": [
    "np.random.rand(3,5)"
   ]
  },
  {
   "cell_type": "markdown",
   "metadata": {},
   "source": [
    "With the above <i>rand</i> function, I requested an ouput of values generated across 3 rows and 5 columns. <br>\n",
    "\n",
    "In order to view the output in a graph form, I chose to run the same code in the next field but this time request to show the output in the form of a histogram. <br><br>\n",
    "\n",
    "The 5 seperate columns will output displaying their own colour: blue, green, purple, orange and red.<br>\n",
    "These results should show 15 columns - 3 of each colour.<br><br>\n",
    "However, having ran this code a few times throughout my research, I discovered that sometimes not all of the 15 bars appear on the graph.<br>\n",
    "My interpretation of this is that the figures must be a similar number for some outputs and the bars overlap in the graph as a result."
   ]
  },
  {
   "cell_type": "code",
   "execution_count": 6,
   "metadata": {},
   "outputs": [
    {
     "data": {
      "image/png": "[encoded data removed]",
      "text/plain": [
       "<Figure size 432x288 with 1 Axes>"
      ]
     },
     "metadata": {
      "needs_background": "light"
     },
     "output_type": "display_data"
    }
   ],
   "source": [
    "r = np.random.rand(3, 5)\n",
    "plt.hist(r)\n",
    "plt.show()"
   ]
  },
  {
   "cell_type": "markdown",
   "metadata": {},
   "source": [
    "Another addition to this function is the ability to request multiple array outputs. <br><br>\n",
    "\n",
    "In the following code, I have requested 4 arrays of outputs, each made up of 3 rows and 2 columns."
   ]
  },
  {
   "cell_type": "code",
   "execution_count": 80,
   "metadata": {},
   "outputs": [
    {
     "data": {
      "text/plain": [
       "array([[[0.52125135, 0.07430379],\n",
       "        [0.19361355, 0.54938405],\n",
       "        [0.06366714, 0.59116083]],\n",
       "\n",
       "       [[0.03402986, 0.73926571],\n",
       "        [0.15017449, 0.96282442],\n",
       "        [0.39831354, 0.46055373]],\n",
       "\n",
       "       [[0.10078574, 0.52721524],\n",
       "        [0.22769872, 0.35558847],\n",
       "        [0.81761619, 0.91279993]],\n",
       "\n",
       "       [[0.08979711, 0.92625322],\n",
       "        [0.75120782, 0.13073085],\n",
       "        [0.77342471, 0.65646059]]])"
      ]
     },
     "execution_count": 80,
     "metadata": {},
     "output_type": "execute_result"
    }
   ],
   "source": [
    "np.random.rand(4, 3, 2)"
   ]
  },
  {
   "cell_type": "markdown",
   "metadata": {},
   "source": [
    "In the below script I have again used the <i>rand</i> function but this time I am requesting the output to appear in a histogram, displaying the results visually to compare its distribution."
   ]
  },
  {
   "cell_type": "code",
   "execution_count": 86,
   "metadata": {},
   "outputs": [
    {
     "data": {
      "image/png": "[encoded data removed]",
      "text/plain": [
       "<Figure size 432x288 with 1 Axes>"
      ]
     },
     "metadata": {
      "needs_background": "light"
     },
     "output_type": "display_data"
    }
   ],
   "source": [
    "x = np.random.rand (24)\n",
    "plt.hist(x)\n",
    "plt.show()"
   ]
  },
  {
   "cell_type": "code",
   "execution_count": 31,
   "metadata": {},
   "outputs": [
    {
     "name": "stderr",
     "output_type": "stream",
     "text": [
      "C:\\Users\\valer\\AppData\\Local\\Continuum\\anaconda3\\lib\\site-packages\\scipy\\stats\\stats.py:1713: FutureWarning: Using a non-tuple sequence for multidimensional indexing is deprecated; use `arr[tuple(seq)]` instead of `arr[seq]`. In the future this will be interpreted as an array index, `arr[np.array(seq)]`, which will result either in an error or a different result.\n",
      "  return np.add.reduce(sorted[indexer] * weights, axis=axis) / sumval\n"
     ]
    },
    {
     "data": {
      "image/png": "[encoded data removed]",
      "text/plain": [
       "<Figure size 432x288 with 1 Axes>"
      ]
     },
     "metadata": {
      "needs_background": "light"
     },
     "output_type": "display_data"
    }
   ],
   "source": [
    "x = np.random.rand (24)\n",
    "sns.distplot(x);\n",
    "plt.show()"
   ]
  },
  {
   "cell_type": "markdown",
   "metadata": {},
   "source": [
    "##### bytes\n",
    "\n",
    "Put quite simply, this function outputs random bytes in a string. \n",
    "This is a function to produce a random sequence of bytes."
   ]
  },
  {
   "cell_type": "code",
   "execution_count": 72,
   "metadata": {},
   "outputs": [
    {
     "data": {
      "text/plain": [
       "b'X\\x8at\\xd2\\x85GtuU@\\xef\\x89B\\xb9A\\x8b@\\xac\\nC\\x0e\\xac\\x874\\xeb\\xd7\\x0c6\\xf1\\x9a\\x1eF'"
      ]
     },
     "execution_count": 72,
     "metadata": {},
     "output_type": "execute_result"
    }
   ],
   "source": [
    "np.random.bytes(32)"
   ]
  },
  {
   "cell_type": "markdown",
   "metadata": {},
   "source": [
    "##### choice\n",
    "\n",
    "The choice function: <i>\"generates a random sample from a given 1-D array.\"</i>[8]\n",
    "<br>\n",
    "This function is set with the figures 12 and 8, which means I am asking for an output of numbers up to (not including) 12 and 8 of these in the output.<br>\n",
    "With the replace addition in the code it is asking if we want to allow duplicates of the number or not. replace=False (no duplicates).<br>\n",
    "<br>\n",
    "This method of the <i>choice</i> function is an example of a permutation equivalent.\n",
    "[9]"
   ]
  },
  {
   "cell_type": "code",
   "execution_count": 30,
   "metadata": {},
   "outputs": [
    {
     "data": {
      "text/plain": [
       "array([10,  7,  5,  2, 11,  6,  1,  9])"
      ]
     },
     "execution_count": 30,
     "metadata": {},
     "output_type": "execute_result"
    }
   ],
   "source": [
    "np.random.choice(12, 8, replace=False)\n"
   ]
  },
  {
   "cell_type": "markdown",
   "metadata": {},
   "source": [
    "### Permutations\n",
    "\n",
    "In the english language, the word <i>\"permutation\"</i> is defined as each of several possible ways in which a set or number of things can be ordered or arranged. <br>\n",
    "\n",
    "Python provide direct methods to find permutations and combinations of a sequence. These methods are present in itertools package.[10]\n",
    "<br>\n",
    "<br>\n",
    "<i>\"If x is an integer, randomly permute np.arange(x). If x is an array, make a copy and shuffle the elements randomly.\"</i>\n",
    "<br><br>\n",
    "To me the above means; if x is a single digit, list the numbers from 0 - x in a random sequence. <br>\n",
    "If x is an array, output the array in a random sequence. [11]\n",
    "\n",
    "##### Permutation \n",
    "This function provides output of a sequence of numbers however they appear in no particular order.\n",
    "<br>\n",
    "The following scripts contain:\n",
    "<ul>\n",
    "    <li> Single digit; output contains all digits from 0 - x (not including that number) </li>\n",
    "    <li> A list of numbers which the function will output in a random order </li>\n",
    "    <li> A sequence of numbers spread out over seperate arrays </li> \n",
    "</ul>"
   ]
  },
  {
   "cell_type": "code",
   "execution_count": 35,
   "metadata": {},
   "outputs": [
    {
     "data": {
      "text/plain": [
       "array([4, 3, 5, 2, 0, 1])"
      ]
     },
     "execution_count": 35,
     "metadata": {},
     "output_type": "execute_result"
    }
   ],
   "source": [
    "np.random.permutation(6)"
   ]
  },
  {
   "cell_type": "code",
   "execution_count": 36,
   "metadata": {},
   "outputs": [
    {
     "data": {
      "text/plain": [
       "array([ 62, 171,  85,  55,   8])"
      ]
     },
     "execution_count": 36,
     "metadata": {},
     "output_type": "execute_result"
    }
   ],
   "source": [
    "np.random.permutation([8, 85, 171, 62, 55])"
   ]
  },
  {
   "cell_type": "code",
   "execution_count": 55,
   "metadata": {},
   "outputs": [
    {
     "data": {
      "text/plain": [
       "([array([1., 0., 0., 0., 0., 1., 0., 0., 0., 0.]),\n",
       "  array([0., 1., 0., 0., 0., 0., 0., 1., 0., 0.]),\n",
       "  array([0., 0., 1., 0., 0., 0., 0., 0., 1., 0.]),\n",
       "  array([0., 0., 0., 0., 1., 0., 0., 0., 0., 1.])],\n",
       " array([0. , 0.7, 1.4, 2.1, 2.8, 3.5, 4.2, 4.9, 5.6, 6.3, 7. ]),\n",
       " <a list of 4 Lists of Patches objects>)"
      ]
     },
     "execution_count": 55,
     "metadata": {},
     "output_type": "execute_result"
    },
    {
     "data": {
      "image/png": "[encoded data removed]",
      "text/plain": [
       "<Figure size 432x288 with 1 Axes>"
      ]
     },
     "metadata": {
      "needs_background": "light"
     },
     "output_type": "display_data"
    }
   ],
   "source": [
    "exa = np.arange(8).reshape((2, 4))\n",
    "np.random.permutation(exa)\n",
    "plt.hist(exa)"
   ]
  },
  {
   "cell_type": "markdown",
   "metadata": {},
   "source": [
    "##### Shuffle\n",
    "\n",
    "The shuffle function is very similar to the previous function, permutation. <br>\n",
    "It produces an output where it provides all the numbers requested but in a random sequence. <br>\n",
    "Note that the following output includes 16 numbers with the 1st being 0 as expected."
   ]
  },
  {
   "cell_type": "code",
   "execution_count": 53,
   "metadata": {},
   "outputs": [
    {
     "data": {
      "text/plain": [
       "array([ 4, 11,  7,  3,  1, 12,  0,  5, 14,  9, 15, 10,  6,  8,  2, 13])"
      ]
     },
     "execution_count": 53,
     "metadata": {},
     "output_type": "execute_result"
    }
   ],
   "source": [
    "ran = np.arange(16)\n",
    "np.random.shuffle(ran)\n",
    "ran"
   ]
  },
  {
   "cell_type": "markdown",
   "metadata": {},
   "source": [
    "Although this next example is not apart of the numpy.random library, I came across it during my research and felt it was an interesting script to view. <br>\n",
    "\n",
    "It request for an output to display all of the permutations / possible outcomes using those provided numbers:[10]"
   ]
  },
  {
   "cell_type": "code",
   "execution_count": 33,
   "metadata": {},
   "outputs": [
    {
     "name": "stdout",
     "output_type": "stream",
     "text": [
      "(1, 2, 3)\n",
      "(1, 3, 2)\n",
      "(2, 1, 3)\n",
      "(2, 3, 1)\n",
      "(3, 1, 2)\n",
      "(3, 2, 1)\n"
     ]
    }
   ],
   "source": [
    "# A Python program to print all permutations using library function \n",
    "from itertools import permutations \n",
    "  \n",
    "# Get all permutations of [1, 2, 3] \n",
    "perm = permutations([1, 2, 3]) \n",
    "  \n",
    "# Print the obtained permutations \n",
    "for e in list(perm): \n",
    "    print (e)"
   ]
  },
  {
   "cell_type": "markdown",
   "metadata": {},
   "source": [
    "--------------------------"
   ]
  },
  {
   "cell_type": "markdown",
   "metadata": {},
   "source": [
    "### 3. Distributions Functions"
   ]
  },
  {
   "cell_type": "markdown",
   "metadata": {},
   "source": [
    "distribution functions within https://machinelearningmastery.com/how-to-generate-random-numbers-in-python/\n",
    "\n",
    "#### numpy.random.normal\n",
    "\n",
    "The output of a normal function has been described to resemble a bell-shape when viewed on graphs.<br>\n",
    "In the below script, I ran a function with 5 being the central point of the data.<br>\n",
    "Also I requested the bins to be spread out to a value of 20 for a better visual result of the data.<br>\n",
    "An example of how to add titles, legends and labels to a graph is also seen in the below function."
   ]
  },
  {
   "cell_type": "code",
   "execution_count": 73,
   "metadata": {
    "scrolled": true
   },
   "outputs": [
    {
     "data": {
      "image/png": "[encoded data removed]",
      "text/plain": [
       "<Figure size 432x288 with 1 Axes>"
      ]
     },
     "metadata": {
      "needs_background": "light"
     },
     "output_type": "display_data"
    }
   ],
   "source": [
    "o = np.random.normal(5.0, 2.0, 1000)\n",
    "plt.hist(o, bins=20)\n",
    "plt.title(\"Normal function histogram\")\n",
    "plt.xlabel(\"x axis\")\n",
    "plt.ylabel(\"y axis\")\n",
    "plt.legend(\"B\")\n",
    "plt.show()"
   ]
  },
  {
   "cell_type": "markdown",
   "metadata": {},
   "source": [
    "For a visual example of how to view plots side by side to allow for comparison, here is the following code: "
   ]
  },
  {
   "cell_type": "code",
   "execution_count": 5,
   "metadata": {},
   "outputs": [
    {
     "data": {
      "image/png": "[encoded data removed]",
      "text/plain": [
       "<Figure size 432x288 with 2 Axes>"
      ]
     },
     "metadata": {
      "needs_background": "light"
     },
     "output_type": "display_data"
    }
   ],
   "source": [
    "plt.subplot(1,2,1)\n",
    "l = np.random.normal(0.0, 1.0, 5000)\n",
    "plt.hist(l, bins=20)\n",
    "\n",
    "plt.subplot(1,2,2)\n",
    "y = np.random.uniform(-3.0,3.0,5000)\n",
    "plt.hist(y, bins=20)\n",
    "\n",
    "plt.show()"
   ]
  },
  {
   "cell_type": "markdown",
   "metadata": {},
   "source": [
    "An alternative method for layout would be to change the above script to have the historgrams appearing one above the other.<br>\n",
    "In order to do that you would simply alter the code to <b>plt.subplot(2, 1, 1)</b> and <b>plt.subplot(2, 1, 2)</b>. By changing the numbers it is telling Python that you wish to have them appear across two rows and one column, instead of side by side."
   ]
  },
  {
   "cell_type": "code",
   "execution_count": 6,
   "metadata": {},
   "outputs": [
    {
     "data": {
      "image/png": "[encoded data removed]",
      "text/plain": [
       "<Figure size 432x288 with 2 Axes>"
      ]
     },
     "metadata": {
      "needs_background": "light"
     },
     "output_type": "display_data"
    }
   ],
   "source": [
    "import matplotlib.pyplot as plt\n",
    "import numpy as np\n",
    "plt.subplot(2,1,1)\n",
    "l = np.random.normal(0.0, 1.0, 5000)\n",
    "plt.hist(l, bins=20)\n",
    "\n",
    "plt.subplot(2,1,2)\n",
    "y = np.random.uniform(-3.0,3.0,5000)\n",
    "plt.hist(y, bins=20)\n",
    "\n",
    "plt.show()"
   ]
  },
  {
   "cell_type": "markdown",
   "metadata": {},
   "source": [
    "The difference between a random.normal and a random.uniform function is primarily down to the way their outputs appear on a graph.<br>\n",
    "<ul>\n",
    "<li><b>Normal:</b> generates a bell-shaped graph where it centres around the average value of the script.</li>\n",
    "<li><b>Uniform:</b>generates a result where the graph values appear to be average, same results for each point</li>\n",
    "</ul>"
   ]
  },
  {
   "cell_type": "markdown",
   "metadata": {},
   "source": [
    "#### numpy.random.uniform\n",
    "\n",
    "The uniform function draws samples from a uniform distribution and all values of the sequence have the same likelyhood of being chosen.[12]\n",
    "<br>\n",
    "For this function I have chose to script and output a histogram for the first example and for the second I chose to produce a scatterplot based on data from 2 uniform lines of code. "
   ]
  },
  {
   "cell_type": "code",
   "execution_count": 20,
   "metadata": {},
   "outputs": [
    {
     "data": {
      "image/png": "[encoded data removed]",
      "text/plain": [
       "<Figure size 432x288 with 1 Axes>"
      ]
     },
     "metadata": {
      "needs_background": "light"
     },
     "output_type": "display_data"
    }
   ],
   "source": [
    "# Example taken from the documentation for NumPy\n",
    "# at https://docs.scipy.org/doc/numpy/reference/generated/numpy.random.uniform.html\n",
    "\n",
    "s = np.random.uniform(-1,0,1000)\n",
    "\n",
    "np.all(s >= 0)\n",
    "\n",
    "np.all(s < 10)\n",
    "\n",
    "count, bins, ignored = plt.hist(s, 20, density=True) \n",
    "plt.plot(bins, np.ones_like(bins), linewidth=2, color='r') \n",
    "plt.show()"
   ]
  },
  {
   "cell_type": "code",
   "execution_count": 101,
   "metadata": {},
   "outputs": [
    {
     "data": {
      "image/png": "[encoded data removed]",
      "text/plain": [
       "<Figure size 432x288 with 1 Axes>"
      ]
     },
     "metadata": {
      "needs_background": "light"
     },
     "output_type": "display_data"
    }
   ],
   "source": [
    "q = np.random.uniform(0.0, 40.0, 100)\n",
    "w = np.random.uniform(0.0, 10.0, 100)\n",
    "plt.scatter(q, w)\n",
    "plt.show()"
   ]
  },
  {
   "cell_type": "code",
   "execution_count": 8,
   "metadata": {},
   "outputs": [
    {
     "data": {
      "image/png": "[encoded data removed]",
      "text/plain": [
       "<Figure size 432x288 with 1 Axes>"
      ]
     },
     "metadata": {
      "needs_background": "light"
     },
     "output_type": "display_data"
    }
   ],
   "source": [
    "x = np.random.uniform (-8, 10, 58000)\n",
    "plt.hist(x)\n",
    "plt.show()"
   ]
  },
  {
   "cell_type": "markdown",
   "metadata": {},
   "source": [
    "----------------------------------"
   ]
  },
  {
   "cell_type": "markdown",
   "metadata": {},
   "source": [
    "#### numpy.random.triangular\n",
    "\n",
    "The name for this function is well suited as its output is always displayed in the shape of a triangle.<br>\n",
    "This function is defined as:<br><br>\n",
    "<i>\"The triangular distribution is a continuous probability distribution with lower limit left, peak at mode, and upper limit right. \"</i> <br>"
   ]
  },
  {
   "cell_type": "code",
   "execution_count": 28,
   "metadata": {},
   "outputs": [
    {
     "data": {
      "image/png": "[encoded data removed]",
      "text/plain": [
       "<Figure size 432x288 with 1 Axes>"
      ]
     },
     "metadata": {
      "needs_background": "light"
     },
     "output_type": "display_data"
    }
   ],
   "source": [
    "x = plt.hist(np.random.triangular(2, 6, 10, 12000), bins=500)\n",
    "plt.show()"
   ]
  },
  {
   "cell_type": "markdown",
   "metadata": {},
   "source": [
    "--------------------------"
   ]
  },
  {
   "cell_type": "markdown",
   "metadata": {},
   "source": [
    "#### numpy.random.geometric\n",
    "\n",
    "The geometric function is used where the result essentially has only one of two outcomes; true or false.<br>\n",
    "\n",
    "<i>\"The geometric distribution is an appropriate model if the following assumptions are true.\n",
    "The phenomenon being modelled is a sequence of independent trials.\n",
    "There are only two possible outcomes for each trial, often designated success or failure.\n",
    "The probability of success, p, is the same for every trial.\"</i><br>[13]\n",
    "<br>\n",
    "\n",
    "A common comparison used for this function is flipping a coin, the result is always going to be 50/50. The function itself monitors the number of trials that must be run in order to achieve success.<br><br>\n",
    "\n",
    "The following function is drawing 5000 values with the probability of a success equal to 0.5.<br>\n",
    "The output trials succeeded after a run of the script.<br> [14]\n"
   ]
  },
  {
   "cell_type": "code",
   "execution_count": 44,
   "metadata": {},
   "outputs": [
    {
     "data": {
      "text/plain": [
       "0.497"
      ]
     },
     "execution_count": 44,
     "metadata": {},
     "output_type": "execute_result"
    }
   ],
   "source": [
    "k = np.random. geometric (p=0.5, size=5000)\n",
    "(k == 1).sum() / 5000"
   ]
  },
  {
   "cell_type": "code",
   "execution_count": 45,
   "metadata": {},
   "outputs": [
    {
     "data": {
      "image/png": "[encoded data removed]",
      "text/plain": [
       "<Figure size 432x288 with 1 Axes>"
      ]
     },
     "metadata": {
      "needs_background": "light"
     },
     "output_type": "display_data"
    }
   ],
   "source": [
    "plt.hist(k)\n",
    "plt.show()"
   ]
  },
  {
   "cell_type": "markdown",
   "metadata": {},
   "source": [
    "-----------------------"
   ]
  },
  {
   "cell_type": "markdown",
   "metadata": {},
   "source": [
    "#### numpy.random.f"
   ]
  },
  {
   "cell_type": "code",
   "execution_count": 42,
   "metadata": {},
   "outputs": [
    {
     "data": {
      "text/plain": [
       "array([1.4213675 , 2.85406509, 0.19507101, 0.9540679 , 2.15635107])"
      ]
     },
     "execution_count": 42,
     "metadata": {},
     "output_type": "execute_result"
    }
   ],
   "source": [
    "dfnum = 2. # between group degrees of freedom\n",
    "dfden = 4. # within groups degrees of freedom\n",
    "d = np.random.f(dfnum, dfden, 5)\n",
    "\n",
    "#sort(d)[2] was not accepted nor was print(d) when tried."
   ]
  },
  {
   "cell_type": "markdown",
   "metadata": {},
   "source": [
    "I could not understand the output from this script, I reviewed a few examples of similar, one being from [15]\n",
    "\n",
    "I will aim to return to review this again in future with a greater knowledge base."
   ]
  },
  {
   "cell_type": "markdown",
   "metadata": {},
   "source": [
    "--------------------------------"
   ]
  },
  {
   "cell_type": "markdown",
   "metadata": {},
   "source": [
    "##### numpy.random.wald\n",
    "\n",
    "<i>\"The wald function draws samples from a Wald, or inverse Gaussian, distribution.\"</i><br>\n",
    "There is talk online that the Wald is indeed an inverse Gaussian because \"there is an inverse relationship between the time to cover a unit distance and distance covered in unit time.\"[16]\n",
    "<br>\n",
    "The script is made up of (mean, scale [size])\n",
    "<ul>\n",
    "    <li>Mean: the distribution mean should be >0.</li>\n",
    "    <li>Scale: the scale parameter should be >=0.</li>\n",
    "    <li>Size: the size determines the output shape and value. A single value will be returned if mean and scale are single elements</li>\n",
    "</ul>"
   ]
  },
  {
   "cell_type": "code",
   "execution_count": 68,
   "metadata": {
    "scrolled": true
   },
   "outputs": [
    {
     "name": "stdout",
     "output_type": "stream",
     "text": [
      "(array([0.02237733, 0.00453594, 0.00241917, 0.        , 0.00090719]), array([  3.02132773,  36.09051185,  69.15969598, 102.2288801 ,\n",
      "       135.29806423, 168.36724835]), <a list of 5 Patch objects>)\n"
     ]
    },
    {
     "data": {
      "image/png": "[encoded data removed]",
      "text/plain": [
       "<Figure size 432x288 with 1 Axes>"
      ]
     },
     "metadata": {
      "needs_background": "light"
     },
     "output_type": "display_data"
    }
   ],
   "source": [
    "g = plt.hist(np.random.wald(30, 20, 100), bins=5, density=True)\n",
    "print(g)\n",
    "plt.show()\n",
    "# https://docs.scipy.org/doc/numpy-1.15.1/reference/generated/numpy.random.wald.html#numpy.random.wald"
   ]
  },
  {
   "cell_type": "markdown",
   "metadata": {},
   "source": [
    "#### numpy.random.gamma\n",
    "\n",
    "Drawn from the Gamma distribution based on set parameters and scale, both of which are >0.<br>\n",
    "The first histogram shows the output of the script where you can see the graph is similar to a uniform output where the outputs appear to be similar, there is no surplus section.<br><br>\n",
    "\n",
    "The second graph, I gathered the information from [17] for assistance to produce an indepth histogram.<br>\n",
    "Its output contains the samples along with probability density function. "
   ]
  },
  {
   "cell_type": "code",
   "execution_count": 52,
   "metadata": {
    "scrolled": true
   },
   "outputs": [
    {
     "data": {
      "image/png": "[encoded data removed]",
      "text/plain": [
       "<Figure size 432x288 with 1 Axes>"
      ]
     },
     "metadata": {
      "needs_background": "light"
     },
     "output_type": "display_data"
    }
   ],
   "source": [
    "shape, scale = 5.0, 8.0\n",
    "h = np.random.gamma(shape, scale, 5000)\n",
    "plt.plot(h)\n",
    "plt.show()"
   ]
  },
  {
   "cell_type": "code",
   "execution_count": 73,
   "metadata": {},
   "outputs": [
    {
     "data": {
      "image/png": "[encoded data removed]",
      "text/plain": [
       "<Figure size 432x288 with 1 Axes>"
      ]
     },
     "metadata": {
      "needs_background": "light"
     },
     "output_type": "display_data"
    }
   ],
   "source": [
    "shape, scale = 5.0, 8.0\n",
    "h = np.random.gamma(shape, scale, 5000)\n",
    "\n",
    "count, bins, ignored = plt.hist(h, 15, density=True)\n",
    "y = bins**(shape-1)*(np.exp(-bins/scale) /\n",
    "                     (sps.gamma(shape)*scale**shape))\n",
    "plt.plot(bins, y, linewidth=1, color='r')\n",
    "plt.show()"
   ]
  },
  {
   "cell_type": "markdown",
   "metadata": {},
   "source": [
    "To understand the above code I split it into two outputs.<br>\n",
    "The first I ran without the code for \"import scipy.special as sps\" etc to see the output.\n",
    "Then this code I added the bins and count and line on the graph. <br>\n",
    "Code for the above was referenced from [18]\n"
   ]
  },
  {
   "cell_type": "markdown",
   "metadata": {},
   "source": [
    "-----------------------------------"
   ]
  },
  {
   "cell_type": "markdown",
   "metadata": {},
   "source": [
    "### 4. Use of seeds in generating pseudorandom numbers"
   ]
  },
  {
   "cell_type": "markdown",
   "metadata": {},
   "source": [
    "It uses a particular algorithm, called the Mersenne Twister, to generate pseudorandom numbers.\n",
    "https://www.packtpub.com/mapt/book/big_data_and_business_intelligence/9781785285110/2/ch02lvl1sec16/numpy-random-numbers\n",
    "\n",
    "https://engineering.mit.edu/engage/ask-an-engineer/can-a-computer-generate-a-truly-random-number/\n",
    "\n",
    "seed examples also within https://machinelearningmastery.com/how-to-generate-random-numbers-in-python/\n",
    "\n",
    "https://www.packtpub.com/mapt/book/big_data_and_business_intelligence/9781785285110/2/ch02lvl1sec16/numpy-random-numbers"
   ]
  },
  {
   "cell_type": "markdown",
   "metadata": {},
   "source": [
    "https://matplotlib.org/gallery/shapes_and_collections/scatter.html"
   ]
  },
  {
   "cell_type": "markdown",
   "metadata": {},
   "source": [
    "--------------------------------"
   ]
  },
  {
   "cell_type": "markdown",
   "metadata": {},
   "source": [
    "## Summary"
   ]
  },
  {
   "cell_type": "markdown",
   "metadata": {},
   "source": [
    "Having studied and investigated that numpy.random package, I have come to appreciate just how indepth and valuable it is as a numerical package to the engineering and mathematical sector of the world.<br><br>\n",
    "My time with this package although short, I intend to revisit and improve my knowledge and skill when it comes to this package for future use.<br>\n",
    "In my own opinion there is no area of the package that is superior as all the different aspects have different functions and importance for such.<br>"
   ]
  },
  {
   "cell_type": "code",
   "execution_count": null,
   "metadata": {},
   "outputs": [],
   "source": []
  },
  {
   "cell_type": "markdown",
   "metadata": {},
   "source": [
    "----------------------------"
   ]
  },
  {
   "cell_type": "markdown",
   "metadata": {},
   "source": [
    "<a id=\"technology\"></a>"
   ]
  },
  {
   "cell_type": "markdown",
   "metadata": {},
   "source": [
    "## Technology Used"
   ]
  },
  {
   "cell_type": "markdown",
   "metadata": {},
   "source": [
    "- Anaconda software package\n",
    "- Python Programming Language\n",
    "- Command Prompt\n",
    "- Jupyter Notebook\n",
    "- GitHub.com\n",
    "- LearnOnline (GMIT)"
   ]
  },
  {
   "cell_type": "markdown",
   "metadata": {},
   "source": [
    "-----------------------------------"
   ]
  },
  {
   "cell_type": "markdown",
   "metadata": {},
   "source": [
    "<a id=\"references\"></a>"
   ]
  },
  {
   "cell_type": "markdown",
   "metadata": {},
   "source": [
    "## References"
   ]
  },
  {
   "cell_type": "markdown",
   "metadata": {},
   "source": [
    "<ol>\n",
    "    <li>numpy.random package info: https://docs.scipy.org/doc/numpy-1.15.1/reference/routines.random.html</li>\n",
    "    <li>Table of Contents aid: https://sebastianraschka.com/Articles/2014_ipython_internal_links.html</li>\n",
    "    <li>https://en.wikipedia.org/wiki/NumPy</li>\n",
    "    <li>https://docs.scipy.org/doc/numpy-1.13.0/user/whatisnumpy.html</li>\n",
    "    <li>https://www.numpy.org/devdocs/reference/routines.random.html#routines-random</li>\n",
    "    <li>https://machinelearningmastery.com/how-to-generate-random-numbers-in-python/</li>\n",
    "    <li>https://www.geeksforgeeks.org/numpy-random-rand-python/</li>\n",
    "    <li>https://www.numpy.org/devdocs/reference/generated/numpy.random.choice.html#numpy.random.choice </li>\n",
    "    <li>https://het.as.utexas.edu/HET/Software/Numpy/reference/generated/numpy.random.choice.html</li>\n",
    "    <li>https://www.geeksforgeeks.org/permutation-and-combination-in-python/</li>\n",
    "    <li>https://docs.scipy.org/doc/numpy-1.15.1/reference/generated/numpy.random.permutation.html</li>\n",
    "    <li>https://www.numpy.org/devdocs/reference/generated/numpy.random.uniform.html#numpy.random.uniform </li>\n",
    "    <li>https://en.wikipedia.org/wiki/Geometric_distribution </li>\n",
    "    <li>https://docs.scipy.org/doc/numpy-1.15.1/reference/generated/numpy.random.geometric.html#numpy.random.geometric</li>\n",
    "    <li>https://het.as.utexas.edu/HET/Software/Numpy/reference/generated/numpy.random.f.html</li>\n",
    "    <li>https://docs.scipy.org/doc/numpy-1.15.1/reference/generated/numpy.random.wald.html#numpy.random.wald</li>\n",
    "    <li>https://docs.scipy.org/doc/numpy-1.15.0/reference/generated/numpy.random.gamma.html </li>\n",
    "    <li>https://docs.scipy.org/doc/numpy-1.15.1/reference/generated/numpy.random.gamma.html#numpy.random.gamma</li>\n",
    "    <li> </li>\n",
    "    <li> </li>\n",
    "    <li> </li>\n",
    "    <li> </li>\n",
    "\n",
    "</ol>"
   ]
  },
  {
   "cell_type": "markdown",
   "metadata": {},
   "source": [
    "[Back to Top](#top)"
   ]
  }
 ],
 "metadata": {
  "kernelspec": {
   "display_name": "Python 3",
   "language": "python",
   "name": "python3"
  },
  "language_info": {
   "codemirror_mode": {
    "name": "ipython",
    "version": 3
   },
   "file_extension": ".py",
   "mimetype": "text/x-python",
   "name": "python",
   "nbconvert_exporter": "python",
   "pygments_lexer": "ipython3",
   "version": "3.7.0"
  }
 },
 "nbformat": 4,
 "nbformat_minor": 2
}
