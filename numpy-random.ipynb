{
 "cells": [
  {
   "cell_type": "markdown",
   "metadata": {},
   "source": [
    "<a id='top'></a>"
   ]
  },
  {
   "cell_type": "markdown",
   "metadata": {},
   "source": [
    "# A study on the numpy.random package"
   ]
  },
  {
   "cell_type": "markdown",
   "metadata": {},
   "source": [
    "![title](numpy.jpg)"
   ]
  },
  {
   "cell_type": "markdown",
   "metadata": {},
   "source": [
    "## Submitted by: Valerie Walsh - G00364748"
   ]
  },
  {
   "cell_type": "markdown",
   "metadata": {},
   "source": [
    "### Assignment: Programming for Data Analysis"
   ]
  },
  {
   "cell_type": "markdown",
   "metadata": {},
   "source": [
    "### Submission Date: 9th November 2018"
   ]
  },
  {
   "cell_type": "markdown",
   "metadata": {},
   "source": [
    "-------------------------------------------------\n",
    "-------------------------------------------"
   ]
  },
  {
   "cell_type": "markdown",
   "metadata": {},
   "source": [
    "## Table of Contents\n",
    "### [Introduction](#introduction)\n",
    "### [Statement of Work](#statement)\n",
    "### [Background](#background)\n",
    "### [Aim of Investigation](#investigation)\n",
    "### [Findings](#findings)\n",
    "### [Summary](#summary)\n",
    "### [Technology Used](#technology)\n",
    "### [References](#references)"
   ]
  },
  {
   "cell_type": "markdown",
   "metadata": {},
   "source": [
    "<a id=\"introduction\"></a>"
   ]
  },
  {
   "cell_type": "markdown",
   "metadata": {},
   "source": [
    "## Introduction"
   ]
  },
  {
   "cell_type": "markdown",
   "metadata": {},
   "source": [
    "I have created this repository as apart of my ongoing studes with Data Analytics.\n",
    "This repository contains my investigation and findings relating to the numpy.random package, which is a sub-package of NumPy. <br>\n",
    "\n",
    "It is my intention to review various areas of the package using its functions and explaining the outputs and their meaning."
   ]
  },
  {
   "cell_type": "markdown",
   "metadata": {},
   "source": [
    "------------------------------------------"
   ]
  },
  {
   "cell_type": "markdown",
   "metadata": {},
   "source": [
    "<a id=\"statement\"></a>"
   ]
  },
  {
   "cell_type": "markdown",
   "metadata": {},
   "source": [
    "## Statement of Work"
   ]
  },
  {
   "cell_type": "markdown",
   "metadata": {},
   "source": [
    "This is a statement to confirm that the work submitted within this repository is my own work. \n",
    "Any information sourced online or 3rd party has been referenced appropriately. \n",
    "I can therefore confirm that my submitted work is in line with the Quality Assurance Framework of GMIT."
   ]
  },
  {
   "cell_type": "markdown",
   "metadata": {},
   "source": [
    "-------------------------------"
   ]
  },
  {
   "cell_type": "markdown",
   "metadata": {},
   "source": [
    "<a id=\"background\"></a>"
   ]
  },
  {
   "cell_type": "markdown",
   "metadata": {},
   "source": [
    "## <a id=\"background\">Background</a>"
   ]
  },
  {
   "cell_type": "markdown",
   "metadata": {},
   "source": [
    "The creation of NumPy came when there was a gap in the Python language. It was not designed for numerical computing so a need was fulfilled in 1995.<br>\n",
    "\n",
    "*\"The Python programming language was not initially designed for numerical computing, but attracted the attention of the scientific and engineering community early on, so that a special interest group called matrix-sig was founded in 1995 with the aim of defining an array computing package. Among its members was Python designer and maintainer Guido van Rossum, who implemented extensions to Python's syntax (in particular the indexing syntax) to make array computing easier.\"*<br> [3]\n",
    "<br><br>\n",
    "**Definition of NumPy:**<br>\n",
    "*\"NumPy is the fundamental package for scientific computing in Python. It is a Python library that provides a multidimensional array object, various derived objects (such as masked arrays and matrices), and an assortment of routines for fast operations on arrays, including mathematicala, logical, shape manipulation, sorting, selecting, I/O, discrete Fourier transforms, basic linear algebra, basic statistical operations, random simulation and much more.\"* [4]\n",
    "<br>\n",
    "<br>\n",
    "The numpy.random sub-package is used to generate random numbers and allow random sampling to take place.<br>\n",
    "One website described the random package as 'linear algebra'.[3]"
   ]
  },
  {
   "cell_type": "markdown",
   "metadata": {},
   "source": [
    "------------------------------------"
   ]
  },
  {
   "cell_type": "markdown",
   "metadata": {},
   "source": [
    "<a id=\"investigation\"></a>"
   ]
  },
  {
   "cell_type": "markdown",
   "metadata": {},
   "source": [
    "## Aim of Investigation"
   ]
  },
  {
   "cell_type": "markdown",
   "metadata": {},
   "source": [
    "It is my intention with this repository to investigate and satisfy these following conditions:\n",
    "\n",
    "1. Define the overall purpose of the numpy.random package\n",
    "1. Explain the use of the \"Simple Random Data\" & \"Permutations\" functions\n",
    "1. Explain the use and purpose of at least 5 \"Distributions\" functions\n",
    "1. Explain the use of seeds inn generating pseudorandom numbers"
   ]
  },
  {
   "cell_type": "markdown",
   "metadata": {},
   "source": [
    "--------------------------------"
   ]
  },
  {
   "cell_type": "markdown",
   "metadata": {},
   "source": [
    "<a id=\"findings\"></a>"
   ]
  },
  {
   "cell_type": "markdown",
   "metadata": {},
   "source": [
    "## Findings"
   ]
  },
  {
   "cell_type": "markdown",
   "metadata": {},
   "source": [
    "To begin, there are certain libraries and packages that were required for the below scripts to run. <br>\n",
    "The following as what I imported at the start to ensure I had all available libraries to complete the functions I outputted.<br>"
   ]
  },
  {
   "cell_type": "code",
   "execution_count": 2,
   "metadata": {},
   "outputs": [],
   "source": [
    "import numpy as np\n",
    "import matplotlib.pyplot as plt\n",
    "import seaborn as sns"
   ]
  },
  {
   "cell_type": "markdown",
   "metadata": {},
   "source": [
    "### 1. The overall purpose of the package"
   ]
  },
  {
   "cell_type": "markdown",
   "metadata": {},
   "source": [
    "### The numpy.random package is a submodel of *NumPy* itself.<br>\n",
    "\n",
    "One website described the random package as 'linear algebra'. [3]\n",
    "\n",
    "<br>\n",
    "Definition of NumPy: <br>\n",
    "<i>\"NumPy is the fundamental package for scientific computing in Python. It is a Python library that provides a multidimensional array object, various derived objects (such as masked arrays and matrices), and an assortment of routines for fast operations on arrays, including mathematicala, logical, shape manipulation, sorting, selecting, I/O, discrete Fourier transforms, basic linear algebra, basic statistical operations, random simulation and much more.\"</i>[4]  <br>\n",
    "<br>\n",
    "Numpy.random is used to generate random numbers, therefore allowing random sampling to take place. \n",
    "<br>\n",
    "Depending on the nature of the investigation or the type of output required there are different options within the package:[5]\n",
    "\n",
    "* Simple random data\n",
    "* Permutations\n",
    "* Distributions\n",
    "* Random generator\n"
   ]
  },
  {
   "cell_type": "markdown",
   "metadata": {},
   "source": [
    "----------------------------"
   ]
  },
  {
   "cell_type": "markdown",
   "metadata": {},
   "source": [
    "### 2. \"Simple Random Data\" & \"Permutations\" functions"
   ]
  },
  {
   "cell_type": "markdown",
   "metadata": {},
   "source": [
    "### Simple Random Data\n",
    "\n",
    "The 'Simple Random Data' suite contains functions that would be the most common and basic of the package. <br>\n",
    "It's functions allow the generation of pseudorandom random data.\n",
    "<br>\n",
    "With the Simple Random functions they allow for basic computation and outputs, but they also have the ability for extension.\n",
    "<br>\n",
    "For example: Settings limitations, requesting multiple array outputs, having a min and max when requesting integers. <br>\n",
    "These will be visible in the following functions which I have chosen to show in my repository.\n",
    "\n",
    "##### randint\n",
    "The first function I want to explain is the Random Integer function (randint):<br><br>\n",
    "*\"This function takes two arguments: the start and the end of the range for the generated integer values. Random integers are generated within and including the start and end of range values, specifically in the interval [start, end]. Random values are drawn from a uniform distribution.\"*[6]\n",
    "\n",
    "In this first function, I have ran the *randint* function where I am asking for a single number to be outputted between the range of -5 - 0.\n",
    "\n",
    "** Because I have already imported numpy above, I do not need to add it into this code or future codes."
   ]
  },
  {
   "cell_type": "code",
   "execution_count": 4,
   "metadata": {},
   "outputs": [
    {
     "data": {
      "text/plain": [
       "-5"
      ]
     },
     "execution_count": 4,
     "metadata": {},
     "output_type": "execute_result"
    }
   ],
   "source": [
    "np.random.randint(-5, 0)"
   ]
  },
  {
   "cell_type": "markdown",
   "metadata": {},
   "source": [
    "For this second example of the <i>randint</i> function I have requested multiple outputs to be given. <br>\n",
    "The guides for this code is: numbers ranging from 0-20 within 3 rows and 5 colums. <br>\n",
    "\n",
    "This can be altered to whatever your needs are, for example: (100, 2, 8) will give you an output with numbers ranging from 0-100 within 2 colums and 8 rows.\n",
    "\n",
    "Simple random function within [6] <br>\n",
    " rand examples [7]"
   ]
  },
  {
   "cell_type": "code",
   "execution_count": 29,
   "metadata": {},
   "outputs": [
    {
     "data": {
      "text/plain": [
       "array([[10, 17, 11],\n",
       "       [16,  9, 10],\n",
       "       [ 0, 19, 13],\n",
       "       [ 3,  6,  6],\n",
       "       [14,  6, 16]])"
      ]
     },
     "execution_count": 29,
     "metadata": {},
     "output_type": "execute_result"
    }
   ],
   "source": [
    "np.random.randint(20, size=(5, 3))"
   ]
  },
  {
   "cell_type": "markdown",
   "metadata": {},
   "source": [
    "##### rand\n",
    "A second function of <i>Simple Date</i> that I wish to investigate is the <i>rand</i> function. This functions is defined as giving out random values in a given shape.<br>\n",
    "*\"Create an array of the given shape and populate it with random samples from a uniform distribution over [0, 1).\"*\n",
    "<br><br>\n",
    "When the function is ran 'as is' without any additional requirements, it will generate a single random number from 0 to 1 (but not including 1)."
   ]
  },
  {
   "cell_type": "code",
   "execution_count": 76,
   "metadata": {},
   "outputs": [
    {
     "data": {
      "text/plain": [
       "0.977180436681277"
      ]
     },
     "execution_count": 76,
     "metadata": {},
     "output_type": "execute_result"
    }
   ],
   "source": [
    "np.random.rand()"
   ]
  },
  {
   "cell_type": "markdown",
   "metadata": {},
   "source": [
    "When I run this function again but this time I request multiple outputs within rows and columns, I will get the following output, again the output figures will range between 0-1, excluding 1."
   ]
  },
  {
   "cell_type": "code",
   "execution_count": 5,
   "metadata": {},
   "outputs": [
    {
     "data": {
      "text/plain": [
       "array([[0.41986241, 0.07601983, 0.02786593, 0.67651956, 0.14633109],\n",
       "       [0.01796354, 0.86590034, 0.8691241 , 0.095379  , 0.37999842],\n",
       "       [0.63093873, 0.37329952, 0.99456404, 0.57653173, 0.79115831]])"
      ]
     },
     "execution_count": 5,
     "metadata": {},
     "output_type": "execute_result"
    }
   ],
   "source": [
    "np.random.rand(3,5)"
   ]
  },
  {
   "cell_type": "markdown",
   "metadata": {},
   "source": [
    "With the above <i>rand</i> function, I requested an ouput of values generated across 3 rows and 5 columns. <br>\n",
    "\n",
    "In order to view the output in a graph form, I chose to run the same code in the next field but this time request to show the output in the form of a histogram. <br><br>\n",
    "\n",
    "The 5 seperate columns will output displaying their own colour: blue, green, purple, orange and red.<br>\n",
    "These results should show 15 columns - 3 of each colour.<br><br>\n",
    "However, having ran this code a few times throughout my research, I discovered that sometimes not all of the 15 bars appear on the graph.<br>\n",
    "My interpretation of this is that the figures must be a similar number for some outputs and the bars overlap in the graph as a result."
   ]
  },
  {
   "cell_type": "code",
   "execution_count": 6,
   "metadata": {},
   "outputs": [
    {
     "data": {
      "image/png": "[encoded data removed]",
      "text/plain": [
       "<Figure size 432x288 with 1 Axes>"
      ]
     },
     "metadata": {
      "needs_background": "light"
     },
     "output_type": "display_data"
    }
   ],
   "source": [
    "r = np.random.rand(3, 5)\n",
    "plt.hist(r)\n",
    "plt.show()"
   ]
  },
  {
   "cell_type": "markdown",
   "metadata": {},
   "source": [
    "Another addition to this function is the ability to request multiple array outputs. <br><br>\n",
    "\n",
    "In the following code, I have requested 4 arrays of outputs, each made up of 3 rows and 2 columns."
   ]
  },
  {
   "cell_type": "code",
   "execution_count": 80,
   "metadata": {},
   "outputs": [
    {
     "data": {
      "text/plain": [
       "array([[[0.52125135, 0.07430379],\n",
       "        [0.19361355, 0.54938405],\n",
       "        [0.06366714, 0.59116083]],\n",
       "\n",
       "       [[0.03402986, 0.73926571],\n",
       "        [0.15017449, 0.96282442],\n",
       "        [0.39831354, 0.46055373]],\n",
       "\n",
       "       [[0.10078574, 0.52721524],\n",
       "        [0.22769872, 0.35558847],\n",
       "        [0.81761619, 0.91279993]],\n",
       "\n",
       "       [[0.08979711, 0.92625322],\n",
       "        [0.75120782, 0.13073085],\n",
       "        [0.77342471, 0.65646059]]])"
      ]
     },
     "execution_count": 80,
     "metadata": {},
     "output_type": "execute_result"
    }
   ],
   "source": [
    "np.random.rand(4, 3, 2)"
   ]
  },
  {
   "cell_type": "markdown",
   "metadata": {},
   "source": [
    "In the below script I have again used the <i>rand</i> function but this time I am requesting the output to appear in a histogram, displaying the results visually to compare its distribution."
   ]
  },
  {
   "cell_type": "code",
   "execution_count": 86,
   "metadata": {},
   "outputs": [
    {
     "data": {
      "image/png": "[encoded data removed]",
      "text/plain": [
       "<Figure size 432x288 with 1 Axes>"
      ]
     },
     "metadata": {
      "needs_background": "light"
     },
     "output_type": "display_data"
    }
   ],
   "source": [
    "x = np.random.rand (24)\n",
    "plt.hist(x)\n",
    "plt.show()"
   ]
  },
  {
   "cell_type": "code",
   "execution_count": 31,
   "metadata": {},
   "outputs": [
    {
     "name": "stderr",
     "output_type": "stream",
     "text": [
      "C:\\Users\\valer\\AppData\\Local\\Continuum\\anaconda3\\lib\\site-packages\\scipy\\stats\\stats.py:1713: FutureWarning: Using a non-tuple sequence for multidimensional indexing is deprecated; use `arr[tuple(seq)]` instead of `arr[seq]`. In the future this will be interpreted as an array index, `arr[np.array(seq)]`, which will result either in an error or a different result.\n",
      "  return np.add.reduce(sorted[indexer] * weights, axis=axis) / sumval\n"
     ]
    },
    {
     "data": {
      "image/png": "[encoded data removed]",
      "text/plain": [
       "<Figure size 432x288 with 1 Axes>"
      ]
     },
     "metadata": {
      "needs_background": "light"
     },
     "output_type": "display_data"
    }
   ],
   "source": [
    "x = np.random.rand (24)\n",
    "sns.distplot(x);\n",
    "plt.show()"
   ]
  },
  {
   "cell_type": "markdown",
   "metadata": {},
   "source": [
    "##### bytes\n",
    "\n",
    "Put quite simply, this function outputs random bytes in a string. \n",
    "This is a function to produce a random sequence of bytes."
   ]
  },
  {
   "cell_type": "code",
   "execution_count": 72,
   "metadata": {},
   "outputs": [
    {
     "data": {
      "text/plain": [
       "b'X\\x8at\\xd2\\x85GtuU@\\xef\\x89B\\xb9A\\x8b@\\xac\\nC\\x0e\\xac\\x874\\xeb\\xd7\\x0c6\\xf1\\x9a\\x1eF'"
      ]
     },
     "execution_count": 72,
     "metadata": {},
     "output_type": "execute_result"
    }
   ],
   "source": [
    "np.random.bytes(32)"
   ]
  },
  {
   "cell_type": "markdown",
   "metadata": {},
   "source": [
    "##### choice\n",
    "\n",
    "The choice function: *\"generates a random sample from a given 1-D array.\"*[8]\n",
    "<br>\n",
    "This function is set with the figures 12 and 8, which means I am asking for an output of numbers up to (not including) 12 and 8 of these in the output.<br>\n",
    "With the replace addition in the code it is asking if we want to allow duplicates of the number or not. replace=False (no duplicates).<br>\n",
    "<br>\n",
    "This method of the *choice* function is an example of a permutation equivalent.\n",
    "[9]"
   ]
  },
  {
   "cell_type": "code",
   "execution_count": 30,
   "metadata": {},
   "outputs": [
    {
     "data": {
      "text/plain": [
       "array([10,  7,  5,  2, 11,  6,  1,  9])"
      ]
     },
     "execution_count": 30,
     "metadata": {},
     "output_type": "execute_result"
    }
   ],
   "source": [
    "np.random.choice(12, 8, replace=False)\n"
   ]
  },
  {
   "cell_type": "markdown",
   "metadata": {},
   "source": [
    "### Permutations\n",
    "\n",
    "In the english language, the word <i>\"permutation\"</i> is defined as each of several possible ways in which a set or number of things can be ordered or arranged. <br>\n",
    "\n",
    "Python provide direct methods to find permutations and combinations of a sequence. These methods are present in itertools package.[10]\n",
    "<br>\n",
    "<br>\n",
    "*\"If x is an integer, randomly permute np.arange(x). If x is an array, make a copy and shuffle the elements randomly.\"*\n",
    "<br><br>\n",
    "To me the above means; if x is a single digit, list the numbers from 0 - x in a random sequence. <br>\n",
    "If x is an array, output the array in a random sequence. [11]\n",
    "\n",
    "##### Permutation \n",
    "This function provides output of a sequence of numbers however they appear in no particular order.\n",
    "<br>\n",
    "The following scripts contain:\n",
    "\n",
    "* Single digit; output contains all digits from 0 - x (not including that number)\n",
    "* A list of numbers which the function will output in a random order\n",
    "* A sequence of numbers spread out over seperate arrays\n",
    "</ul>"
   ]
  },
  {
   "cell_type": "code",
   "execution_count": 35,
   "metadata": {},
   "outputs": [
    {
     "data": {
      "text/plain": [
       "array([4, 3, 5, 2, 0, 1])"
      ]
     },
     "execution_count": 35,
     "metadata": {},
     "output_type": "execute_result"
    }
   ],
   "source": [
    "np.random.permutation(6)"
   ]
  },
  {
   "cell_type": "code",
   "execution_count": 36,
   "metadata": {},
   "outputs": [
    {
     "data": {
      "text/plain": [
       "array([ 62, 171,  85,  55,   8])"
      ]
     },
     "execution_count": 36,
     "metadata": {},
     "output_type": "execute_result"
    }
   ],
   "source": [
    "np.random.permutation([8, 85, 171, 62, 55])"
   ]
  },
  {
   "cell_type": "code",
   "execution_count": 55,
   "metadata": {},
   "outputs": [
    {
     "data": {
      "text/plain": [
       "([array([1., 0., 0., 0., 0., 1., 0., 0., 0., 0.]),\n",
       "  array([0., 1., 0., 0., 0., 0., 0., 1., 0., 0.]),\n",
       "  array([0., 0., 1., 0., 0., 0., 0., 0., 1., 0.]),\n",
       "  array([0., 0., 0., 0., 1., 0., 0., 0., 0., 1.])],\n",
       " array([0. , 0.7, 1.4, 2.1, 2.8, 3.5, 4.2, 4.9, 5.6, 6.3, 7. ]),\n",
       " <a list of 4 Lists of Patches objects>)"
      ]
     },
     "execution_count": 55,
     "metadata": {},
     "output_type": "execute_result"
    },
    {
     "data": {
      "image/png": "[encoded data removed]",
      "text/plain": [
       "<Figure size 432x288 with 1 Axes>"
      ]
     },
     "metadata": {
      "needs_background": "light"
     },
     "output_type": "display_data"
    }
   ],
   "source": [
    "exa = np.arange(8).reshape((2, 4))\n",
    "np.random.permutation(exa)\n",
    "plt.hist(exa)"
   ]
  },
  {
   "cell_type": "markdown",
   "metadata": {},
   "source": [
    "##### Shuffle\n",
    "\n",
    "The shuffle function is very similar to the previous function, permutation. <br>\n",
    "It produces an output where it provides all the numbers requested but in a random sequence. <br>\n",
    "Note that the following output includes 16 numbers with the 1st being 0 as expected."
   ]
  },
  {
   "cell_type": "code",
   "execution_count": 53,
   "metadata": {},
   "outputs": [
    {
     "data": {
      "text/plain": [
       "array([ 4, 11,  7,  3,  1, 12,  0,  5, 14,  9, 15, 10,  6,  8,  2, 13])"
      ]
     },
     "execution_count": 53,
     "metadata": {},
     "output_type": "execute_result"
    }
   ],
   "source": [
    "ran = np.arange(16)\n",
    "np.random.shuffle(ran)\n",
    "ran"
   ]
  },
  {
   "cell_type": "markdown",
   "metadata": {},
   "source": [
    "Although this next example is not apart of the numpy.random library, I came across it during my research and felt it was an interesting script to view. <br>\n",
    "\n",
    "It request for an output to display all of the permutations / possible outcomes using those provided numbers:[10]"
   ]
  },
  {
   "cell_type": "code",
   "execution_count": 33,
   "metadata": {},
   "outputs": [
    {
     "name": "stdout",
     "output_type": "stream",
     "text": [
      "(1, 2, 3)\n",
      "(1, 3, 2)\n",
      "(2, 1, 3)\n",
      "(2, 3, 1)\n",
      "(3, 1, 2)\n",
      "(3, 2, 1)\n"
     ]
    }
   ],
   "source": [
    "# A Python program to print all permutations using library function \n",
    "from itertools import permutations \n",
    "  \n",
    "# Get all permutations of [1, 2, 3] \n",
    "perm = permutations([1, 2, 3]) \n",
    "  \n",
    "# Print the obtained permutations \n",
    "for e in list(perm): \n",
    "    print (e)"
   ]
  },
  {
   "cell_type": "markdown",
   "metadata": {},
   "source": [
    "--------------------------"
   ]
  },
  {
   "cell_type": "markdown",
   "metadata": {},
   "source": [
    "### 3. Distributions Functions"
   ]
  },
  {
   "cell_type": "markdown",
   "metadata": {},
   "source": [
    "A distribution is defined as:\n",
    "*The distribution of a statistical data set (or a population) is a listing or function showing all the possible values (or intervals) of the data and how often they occur. When a distribution of categorical data is organized, you see the number or percentage of individuals in each group. When a distribution of numerical data is organized, they’re often ordered from smallest to largest, broken into reasonably sized groups (if appropriate), and then put into graphs and charts to examine the shape, center, and amount of variability in the data.* [23]\n",
    "<br>\n",
    "There are numerous different categories of data available for the purpose to statistical data such as the ones for NumPy.random listed in https://docs.scipy.org/doc/numpy-1.15.1/reference/routines.random.html but I am going to review the following as apart of my research.\n",
    "\n",
    "\n",
    "#### numpy.random.normal\n",
    "\n",
    "The output of a normal function has been described to resemble a bell-shape when viewed on graphs.<br>\n",
    "In the below script, I ran a function with 5 being the central point of the data.<br>\n",
    "Also I requested the bins to be spread out to a value of 20 for a better visual result of the data.<br>\n",
    "An example of how to add titles, legends and labels to a graph is also seen in the below function."
   ]
  },
  {
   "cell_type": "code",
   "execution_count": 73,
   "metadata": {
    "scrolled": true
   },
   "outputs": [
    {
     "data": {
      "image/png": "[encoded data removed]",
      "text/plain": [
       "<Figure size 432x288 with 1 Axes>"
      ]
     },
     "metadata": {
      "needs_background": "light"
     },
     "output_type": "display_data"
    }
   ],
   "source": [
    "o = np.random.normal(5.0, 2.0, 1000)\n",
    "plt.hist(o, bins=20)\n",
    "plt.title(\"Normal function histogram\")\n",
    "plt.xlabel(\"x axis\")\n",
    "plt.ylabel(\"y axis\")\n",
    "plt.legend(\"B\")\n",
    "plt.show()"
   ]
  },
  {
   "cell_type": "markdown",
   "metadata": {},
   "source": [
    "For a visual example of how to view plots side by side to allow for comparison, here is the following code: "
   ]
  },
  {
   "cell_type": "code",
   "execution_count": 5,
   "metadata": {},
   "outputs": [
    {
     "data": {
      "image/png": "[encoded data removed]",
      "text/plain": [
       "<Figure size 432x288 with 2 Axes>"
      ]
     },
     "metadata": {
      "needs_background": "light"
     },
     "output_type": "display_data"
    }
   ],
   "source": [
    "plt.subplot(1,2,1)\n",
    "l = np.random.normal(0.0, 1.0, 5000)\n",
    "plt.hist(l, bins=20)\n",
    "\n",
    "plt.subplot(1,2,2)\n",
    "y = np.random.uniform(-3.0,3.0,5000)\n",
    "plt.hist(y, bins=20)\n",
    "\n",
    "plt.show()"
   ]
  },
  {
   "cell_type": "markdown",
   "metadata": {},
   "source": [
    "An alternative method for layout would be to change the above script to have the historgrams appearing one above the other.<br>\n",
    "In order to do that you would simply alter the code to **plt.subplot(2, 1, 1)** and **plt.subplot(2, 1, 2)**. By changing the numbers it is telling Python that you wish to have them appear across two rows and one column, instead of side by side."
   ]
  },
  {
   "cell_type": "code",
   "execution_count": 6,
   "metadata": {},
   "outputs": [
    {
     "data": {
      "image/png": "[encoded data removed]",
      "text/plain": [
       "<Figure size 432x288 with 2 Axes>"
      ]
     },
     "metadata": {
      "needs_background": "light"
     },
     "output_type": "display_data"
    }
   ],
   "source": [
    "import matplotlib.pyplot as plt\n",
    "import numpy as np\n",
    "plt.subplot(2,1,1)\n",
    "l = np.random.normal(0.0, 1.0, 5000)\n",
    "plt.hist(l, bins=20)\n",
    "\n",
    "plt.subplot(2,1,2)\n",
    "y = np.random.uniform(-3.0,3.0,5000)\n",
    "plt.hist(y, bins=20)\n",
    "\n",
    "plt.show()"
   ]
  },
  {
   "cell_type": "markdown",
   "metadata": {},
   "source": [
    "The difference between a random.normal and a random.uniform function is primarily down to the way their outputs appear on a graph.<br>\n",
    "\n",
    "* **Normal:** generates a bell-shaped graph where it centres around the average value of the script.\n",
    "* **Uniform:** generates a result where the graph values appear to be average, same results for each point"
   ]
  },
  {
   "cell_type": "markdown",
   "metadata": {},
   "source": [
    "#### numpy.random.uniform\n",
    "\n",
    "The uniform function draws samples from a uniform distribution and all values of the sequence have the same likelyhood of being chosen.[12]\n",
    "<br>\n",
    "For this function I have chose to script and output a histogram for the first example and for the second I chose to produce a scatterplot based on data from 2 uniform lines of code. "
   ]
  },
  {
   "cell_type": "code",
   "execution_count": 20,
   "metadata": {},
   "outputs": [
    {
     "data": {
      "image/png": "[encoded data removed]",
      "text/plain": [
       "<Figure size 432x288 with 1 Axes>"
      ]
     },
     "metadata": {
      "needs_background": "light"
     },
     "output_type": "display_data"
    }
   ],
   "source": [
    "# Example taken from the documentation for NumPy\n",
    "# at https://docs.scipy.org/doc/numpy/reference/generated/numpy.random.uniform.html\n",
    "\n",
    "s = np.random.uniform(-1,0,1000)\n",
    "\n",
    "np.all(s >= 0)\n",
    "\n",
    "np.all(s < 10)\n",
    "\n",
    "count, bins, ignored = plt.hist(s, 20, density=True) \n",
    "plt.plot(bins, np.ones_like(bins), linewidth=2, color='r') \n",
    "plt.show()"
   ]
  },
  {
   "cell_type": "code",
   "execution_count": 101,
   "metadata": {},
   "outputs": [
    {
     "data": {
      "image/png": "[encoded data removed]",
      "text/plain": [
       "<Figure size 432x288 with 1 Axes>"
      ]
     },
     "metadata": {
      "needs_background": "light"
     },
     "output_type": "display_data"
    }
   ],
   "source": [
    "q = np.random.uniform(0.0, 40.0, 100)\n",
    "w = np.random.uniform(0.0, 10.0, 100)\n",
    "plt.scatter(q, w)\n",
    "plt.show()"
   ]
  },
  {
   "cell_type": "code",
   "execution_count": 8,
   "metadata": {},
   "outputs": [
    {
     "data": {
      "image/png": "[encoded data removed]",
      "text/plain": [
       "<Figure size 432x288 with 1 Axes>"
      ]
     },
     "metadata": {
      "needs_background": "light"
     },
     "output_type": "display_data"
    }
   ],
   "source": [
    "x = np.random.uniform (-8, 10, 58000)\n",
    "plt.hist(x)\n",
    "plt.show()"
   ]
  },
  {
   "cell_type": "markdown",
   "metadata": {},
   "source": [
    "----------------------------------"
   ]
  },
  {
   "cell_type": "markdown",
   "metadata": {},
   "source": [
    "#### numpy.random.triangular\n",
    "\n",
    "The name for this function is well suited as its output is always displayed in the shape of a triangle.<br>\n",
    "This function is defined as:<br><br>\n",
    "*\"The triangular distribution is a continuous probability distribution with lower limit left, peak at mode, and upper limit right.\"* <br>"
   ]
  },
  {
   "cell_type": "code",
   "execution_count": 28,
   "metadata": {},
   "outputs": [
    {
     "data": {
      "image/png": "[encoded data removed]",
      "text/plain": [
       "<Figure size 432x288 with 1 Axes>"
      ]
     },
     "metadata": {
      "needs_background": "light"
     },
     "output_type": "display_data"
    }
   ],
   "source": [
    "x = plt.hist(np.random.triangular(2, 6, 10, 12000), bins=500)\n",
    "plt.show()"
   ]
  },
  {
   "cell_type": "markdown",
   "metadata": {},
   "source": [
    "--------------------------"
   ]
  },
  {
   "cell_type": "markdown",
   "metadata": {},
   "source": [
    "#### numpy.random.geometric\n",
    "\n",
    "The geometric function is used where the result essentially has only one of two outcomes; true or false.<br>\n",
    "\n",
    "*\"The geometric distribution is an appropriate model if the following assumptions are true.\n",
    "The phenomenon being modelled is a sequence of independent trials.\n",
    "There are only two possible outcomes for each trial, often designated success or failure.\n",
    "The probability of success, p, is the same for every trial.\"*<br>[13]\n",
    "<br>\n",
    "\n",
    "A common comparison used for this function is flipping a coin, the result is always going to be 50/50. The function itself monitors the number of trials that must be run in order to achieve success.<br><br>\n",
    "\n",
    "The following function is drawing 5000 values with the probability of a success equal to 0.5.<br>\n",
    "The output trials succeeded after a run of the script.<br> [14]\n"
   ]
  },
  {
   "cell_type": "code",
   "execution_count": 44,
   "metadata": {},
   "outputs": [
    {
     "data": {
      "text/plain": [
       "0.497"
      ]
     },
     "execution_count": 44,
     "metadata": {},
     "output_type": "execute_result"
    }
   ],
   "source": [
    "k = np.random. geometric (p=0.5, size=5000)\n",
    "(k == 1).sum() / 5000"
   ]
  },
  {
   "cell_type": "code",
   "execution_count": 45,
   "metadata": {},
   "outputs": [
    {
     "data": {
      "image/png": "[encoded data removed]",
      "text/plain": [
       "<Figure size 432x288 with 1 Axes>"
      ]
     },
     "metadata": {
      "needs_background": "light"
     },
     "output_type": "display_data"
    }
   ],
   "source": [
    "plt.hist(k)\n",
    "plt.show()"
   ]
  },
  {
   "cell_type": "markdown",
   "metadata": {},
   "source": [
    "-----------------------"
   ]
  },
  {
   "cell_type": "markdown",
   "metadata": {},
   "source": [
    "#### numpy.random.f"
   ]
  },
  {
   "cell_type": "code",
   "execution_count": 42,
   "metadata": {},
   "outputs": [
    {
     "data": {
      "text/plain": [
       "array([1.4213675 , 2.85406509, 0.19507101, 0.9540679 , 2.15635107])"
      ]
     },
     "execution_count": 42,
     "metadata": {},
     "output_type": "execute_result"
    }
   ],
   "source": [
    "dfnum = 2. # between group degrees of freedom\n",
    "dfden = 4. # within groups degrees of freedom\n",
    "d = np.random.f(dfnum, dfden, 5)\n",
    "\n",
    "#sort(d)[2] was not accepted nor was print(d) when tried."
   ]
  },
  {
   "cell_type": "markdown",
   "metadata": {},
   "source": [
    "I could not understand the output from this script, I reviewed a few examples of similar, one being from [15]\n",
    "\n",
    "I will aim to return to review this again in future with a greater knowledge base."
   ]
  },
  {
   "cell_type": "markdown",
   "metadata": {},
   "source": [
    "--------------------------------"
   ]
  },
  {
   "cell_type": "markdown",
   "metadata": {},
   "source": [
    "##### numpy.random.wald\n",
    "\n",
    "*\"The wald function draws samples from a Wald, or inverse Gaussian, distribution.\"*<br>\n",
    "There is talk online that the Wald is indeed an inverse Gaussian because \"there is an inverse relationship between the time to cover a unit distance and distance covered in unit time.\"[16]\n",
    "<br>\n",
    "The script is made up of (mean, scale [size])\n",
    "\n",
    "* Mean: the distribution mean should be >0.\n",
    "* Scale: the scale parameter should be >=0.\n",
    "* Size: the size determines the output shape and value. A single value will be returned if mean and scale are single elements"
   ]
  },
  {
   "cell_type": "code",
   "execution_count": 68,
   "metadata": {
    "scrolled": true
   },
   "outputs": [
    {
     "name": "stdout",
     "output_type": "stream",
     "text": [
      "(array([0.02237733, 0.00453594, 0.00241917, 0.        , 0.00090719]), array([  3.02132773,  36.09051185,  69.15969598, 102.2288801 ,\n",
      "       135.29806423, 168.36724835]), <a list of 5 Patch objects>)\n"
     ]
    },
    {
     "data": {
      "image/png": "[encoded data removed]",
      "text/plain": [
       "<Figure size 432x288 with 1 Axes>"
      ]
     },
     "metadata": {
      "needs_background": "light"
     },
     "output_type": "display_data"
    }
   ],
   "source": [
    "g = plt.hist(np.random.wald(30, 20, 100), bins=5, density=True)\n",
    "print(g)\n",
    "plt.show()\n",
    "# https://docs.scipy.org/doc/numpy-1.15.1/reference/generated/numpy.random.wald.html#numpy.random.wald"
   ]
  },
  {
   "cell_type": "markdown",
   "metadata": {},
   "source": [
    "#### numpy.random.gamma\n",
    "\n",
    "Drawn from the Gamma distribution based on set parameters and scale, both of which are >0.<br>\n",
    "The first histogram shows the output of the script where you can see the graph is similar to a uniform output where the outputs appear to be similar, there is no surplus section.<br><br>\n",
    "\n",
    "The second graph, I gathered the information from [17] for assistance to produce an indepth histogram.<br>\n",
    "Its output contains the samples along with probability density function. "
   ]
  },
  {
   "cell_type": "code",
   "execution_count": 52,
   "metadata": {
    "scrolled": true
   },
   "outputs": [
    {
     "data": {
      "image/png": "[encoded data removed]",
      "text/plain": [
       "<Figure size 432x288 with 1 Axes>"
      ]
     },
     "metadata": {
      "needs_background": "light"
     },
     "output_type": "display_data"
    }
   ],
   "source": [
    "shape, scale = 5.0, 8.0\n",
    "h = np.random.gamma(shape, scale, 5000)\n",
    "plt.plot(h)\n",
    "plt.show()"
   ]
  },
  {
   "cell_type": "code",
   "execution_count": 73,
   "metadata": {},
   "outputs": [
    {
     "data": {
      "image/png": "[encoded data removed]",
      "text/plain": [
       "<Figure size 432x288 with 1 Axes>"
      ]
     },
     "metadata": {
      "needs_background": "light"
     },
     "output_type": "display_data"
    }
   ],
   "source": [
    "shape, scale = 5.0, 8.0\n",
    "h = np.random.gamma(shape, scale, 5000)\n",
    "\n",
    "count, bins, ignored = plt.hist(h, 15, density=True)\n",
    "y = bins**(shape-1)*(np.exp(-bins/scale) /\n",
    "                     (sps.gamma(shape)*scale**shape))\n",
    "plt.plot(bins, y, linewidth=1, color='r')\n",
    "plt.show()"
   ]
  },
  {
   "cell_type": "markdown",
   "metadata": {},
   "source": [
    "To understand the above code I split it into two outputs.<br>\n",
    "The first I ran without the code for \"import scipy.special as sps\" etc to see the output.\n",
    "Then this code I added the bins and count and line on the graph. <br>\n",
    "Code for the above was referenced from [18]\n"
   ]
  },
  {
   "cell_type": "markdown",
   "metadata": {},
   "source": [
    "-----------------------------------"
   ]
  },
  {
   "cell_type": "markdown",
   "metadata": {},
   "source": [
    "### 4. Use of seeds in generating pseudorandom numbers"
   ]
  },
  {
   "cell_type": "markdown",
   "metadata": {},
   "source": [
    "A seed is a starting point for when you want to generate random numbers, when you set a seed it allows you to re-produce the output again and again. <br>\n",
    "*Pseudorandomness is a sample of numbers that look close to random, but were generated using a deterministic process.* [6]<br>\n",
    "The above statement is the definition of what happens when a seed is used within a script to get a particular output.\n",
    "\n",
    "It is worth noting that a computer is not capable of generating random data on its own. In order for it to output 'random' responses, it relies on algorithmns which are created by humans. \n",
    "Therefore it is not always the case that random outputs are fully random. <br>\n",
    "If the seed is known (starting point of a calculation), then the output can be determined and if you use the same seed, you will get the same random numbers. This is a helpful tool if you wish to prove a theory which requires numerous repeats of the code, ensuring the same output each time.\n",
    "<br>\n",
    "\n",
    "*The seed during such random number generation is actually the starting point in the sequence. If we use same seed every time, it will yield same sequence of random numbers.* [20]\n",
    "\n",
    "NumPy uses an algorithm called the Mersenne Twister to generate pseudorandom numbers. A seed can be set or defined to make the output of random numbers predictable. If the seed is not assigned, NumPy will selects a random seed value based on the system's random number generator device or on the clock. [21]\n",
    "<br>\n",
    "<br>\n",
    "Some explainations into how a computer can generate a seed when it is not set:\n",
    "* *If you do not explicitly seed the pseudorandom number generator, then it may use the current system time in seconds or milliseconds as the seed.* [6]\n",
    "* *There are devices that generate numbers that claim to be truly random. They rely on unpredictable processes like thermal or atmospheric noise rather than human-defined patterns. The results might still be slightly biased towards higher numbers or even numbers, but they’re not generated by a deterministic algorithm.* [22]\n",
    "\n",
    "<br>\n",
    "In the first code I have chosen to get an output with no set seed, the output will not be able to be repeated as it is generated by the computer."
   ]
  },
  {
   "cell_type": "code",
   "execution_count": 14,
   "metadata": {},
   "outputs": [
    {
     "data": {
      "text/plain": [
       "0.8776551443265856"
      ]
     },
     "execution_count": 14,
     "metadata": {},
     "output_type": "execute_result"
    }
   ],
   "source": [
    "import numpy as np\n",
    "np.random.rand()"
   ]
  },
  {
   "cell_type": "markdown",
   "metadata": {},
   "source": [
    "In this second example I have set the seed to 50 and I get the output of 0.49460164553802144"
   ]
  },
  {
   "cell_type": "code",
   "execution_count": 17,
   "metadata": {},
   "outputs": [
    {
     "data": {
      "text/plain": [
       "0.49460164553802144"
      ]
     },
     "execution_count": 17,
     "metadata": {},
     "output_type": "execute_result"
    }
   ],
   "source": [
    "np.random.seed(50)\n",
    "\n",
    "np.random.rand()"
   ]
  },
  {
   "cell_type": "markdown",
   "metadata": {},
   "source": [
    "I have ran another random generator without a seed and again another random output"
   ]
  },
  {
   "cell_type": "code",
   "execution_count": 12,
   "metadata": {},
   "outputs": [
    {
     "data": {
      "text/plain": [
       "0.9085839385674503"
      ]
     },
     "execution_count": 12,
     "metadata": {},
     "output_type": "execute_result"
    }
   ],
   "source": [
    "np.random.rand()"
   ]
  },
  {
   "cell_type": "markdown",
   "metadata": {},
   "source": [
    "For my final example of this I have chose to set the seed again to 50 and again the output is the same due to the seed being the same, ensuring the same output each time."
   ]
  },
  {
   "cell_type": "code",
   "execution_count": 16,
   "metadata": {},
   "outputs": [
    {
     "data": {
      "text/plain": [
       "0.49460164553802144"
      ]
     },
     "execution_count": 16,
     "metadata": {},
     "output_type": "execute_result"
    }
   ],
   "source": [
    "np.random.seed(50)\n",
    "\n",
    "np.random.rand()"
   ]
  },
  {
   "cell_type": "code",
   "execution_count": 29,
   "metadata": {},
   "outputs": [
    {
     "data": {
      "image/png": "[encoded data removed]",
      "text/plain": [
       "<Figure size 432x288 with 1 Axes>"
      ]
     },
     "metadata": {
      "needs_background": "light"
     },
     "output_type": "display_data"
    }
   ],
   "source": [
    "# Example of scatter plot taken from https://matplotlib.org/gallery/shapes_and_collections/scatter.html\n",
    "\n",
    "import numpy as np\n",
    "import matplotlib\n",
    "import matplotlib.pyplot as plt\n",
    "\n",
    "np.random.seed(123456)\n",
    "\n",
    "\n",
    "r = 50\n",
    "x = np.random.rand(r)\n",
    "y = np.random.rand(r)\n",
    "colors = np.random.rand(r)\n",
    "area = (60 * np.random.rand(r))**2  # 0 to 15 point radii\n",
    "\n",
    "plt.scatter(x, y, s=area, c=colors, alpha=0.5)\n",
    "plt.title(\"Set seed scatter plot\")\n",
    "plt.xlabel(\"x axis\")\n",
    "plt.ylabel(\"y axis\")\n",
    "plt.show()"
   ]
  },
  {
   "cell_type": "code",
   "execution_count": 38,
   "metadata": {},
   "outputs": [
    {
     "name": "stdout",
     "output_type": "stream",
     "text": [
      "0.13436424411240122 0.8474337369372327 0.763774618976614\n",
      "0.13436424411240122 0.8474337369372327 0.763774618976614\n"
     ]
    }
   ],
   "source": [
    "# Another interesting example of showing how a seed affects and produces the same output when set:\n",
    "# ref https://machinelearningmastery.com/how-to-generate-random-numbers-in-python/\n",
    "\n",
    "# seed the pseudorandom number generator\n",
    "from random import seed\n",
    "from random import random\n",
    "# seed random number generator\n",
    "seed(1)\n",
    "# generate some random numbers\n",
    "print(random(), random(), random())\n",
    "# reset the seed\n",
    "seed(1)\n",
    "# generate some random numbers\n",
    "print(random(), random(), random())"
   ]
  },
  {
   "cell_type": "code",
   "execution_count": 36,
   "metadata": {},
   "outputs": [
    {
     "data": {
      "text/plain": [
       "('MT19937', array([3098957355, 3018654142,  424923222,  776092044,  484508211,\n",
       "        1803280507, 1079081260, 1854706401, 2781628494,   60067758,\n",
       "        2175451275, 3431948274, 1568837817,  487209293,  995880369,\n",
       "         645070364, 3537491729, 2088976353, 1854039527, 2606459153,\n",
       "        2428887889, 2870717576,  423811350, 1414261875,  858619845,\n",
       "        4154055268, 3553954159, 3803257626, 3021344258, 4280515452,\n",
       "        3545240782, 3835517276,  404165481, 1212037436, 3846407569,\n",
       "        2498473980, 3241541243, 3927109275, 1958492903, 3425563907,\n",
       "        2647403733, 1116168444,  805452290, 3830336080, 2787094373,\n",
       "        1466074720, 3309266801,  322179634,  996095690, 2857295154,\n",
       "        2866692046,  527472951,   27278145,  860628832,  660839840,\n",
       "        3427069225, 4208340952, 3127013258, 1760579037, 3300095175,\n",
       "         502213202, 2226669941,  996302837, 2123965781, 3900264453,\n",
       "        3596572268, 1013450990, 2780587704, 2531479273, 2003745858,\n",
       "        3807204113, 2025937919, 2727572545, 3926890185, 1445630818,\n",
       "        1365822808,  755345103,  452743361,  334077104, 1999470321,\n",
       "         417177142, 3740073422, 3535817000, 2905269625,  855296832,\n",
       "        3537612151, 3679768281, 2708254759, 2630665738, 3075788084,\n",
       "         233820067, 1340426729, 3888299670,  186108862,  998547193,\n",
       "        3001432592, 1299140608, 3703520803,  310642106, 2578955709,\n",
       "         639671121,  606046387,   19817918,  713080058, 2848553596,\n",
       "        3866625346, 2023054670, 1532429048, 2721396136, 2837738276,\n",
       "        3463620182, 2986674893, 4182659239,  254190684,  618350562,\n",
       "        3553006185, 2750482671, 1521818709,  571977972,  507974525,\n",
       "         371825890, 4238901755, 2368154966, 2855697091, 2444260436,\n",
       "        3362810179, 3613143884,  775591075, 3170922180, 2027831408,\n",
       "        2277569535, 3508044215, 4213496060,  477618795, 4041903390,\n",
       "        2741242548, 4175576127,  416119047, 2045293864,  385961754,\n",
       "        2816817329, 4004497921, 3098243470, 2901403372,  488040196,\n",
       "        1078561316, 2331867094, 2988477459, 3748338967, 1443165203,\n",
       "        3544319005, 2547734191, 3358418782, 1352974813, 1711934101,\n",
       "        1542313586, 4266588516,  563364443, 1763287913, 1592246645,\n",
       "        3275196161,  968378839,  692248744, 4044007170, 2350774731,\n",
       "        3737387886,  905597004, 1118986084, 1209860909, 1875144455,\n",
       "         547055616, 4077913419,  369569960, 4293784000,  216540898,\n",
       "        1805324706, 1939169352, 1336083935, 4093903983,  882411719,\n",
       "        2825127914,  937938211, 3020185461, 2352059582, 3755408310,\n",
       "         268125672,  917548902,  362326041,  384457644, 3341237444,\n",
       "        3311291465, 1392007818, 3578020095, 3404527740,  693591572,\n",
       "        1029000051, 1699358506, 2329566273, 2791681394, 1288640745,\n",
       "        3540320950,  675035211, 3506414480, 3069647224,  529426097,\n",
       "         722456665, 3463326649, 4132145942,  492212774, 1049751349,\n",
       "         130022818, 2058107224, 1164473465, 2235207339, 1242712991,\n",
       "        1714308719, 3863715131,  830092735, 3158545236, 4205486869,\n",
       "        3679884922,  262054339, 2206889282, 3210074460, 1221324312,\n",
       "        2186491601, 1850265716, 2062647230, 3647759106, 3159438808,\n",
       "        2411301691,  702585167,  322757123, 3271049100, 1975545506,\n",
       "        2281187755,   96501292, 2800032330, 2740620568, 4214166810,\n",
       "        4231689819, 1988960208, 3780726426, 1018730538, 3765794384,\n",
       "        2594914752, 1738268278, 2597414725, 1598637458,  374341920,\n",
       "        2833703324, 1473552918, 4002082324, 3378948544,  220473568,\n",
       "        3175122203, 2138016254,  530680686, 4171898899,  786444484,\n",
       "         963763501,  340687563,  665490399, 2740386606, 2955427264,\n",
       "        1265773707, 2304771642, 2629131222, 3242090390, 2766593663,\n",
       "        4055339380, 3720539204, 1749052448, 1037708878, 4110376355,\n",
       "         826887834,  943072759,  860532334, 1284239555, 1849151604,\n",
       "        1534215075, 3987765942, 3216736769,  565710442, 3089831368,\n",
       "        1103676228, 2272799741,  975681056, 3417325783, 2041272085,\n",
       "        3399611771, 3070230343,  580183986, 1276145021, 2874729981,\n",
       "        2343172388, 2399976589, 2703934299, 3526388967, 3944150005,\n",
       "        1849620620, 3205802189, 3126526123, 1656086166, 3365565262,\n",
       "        3528462639,  290637312, 3139607432,  244228715, 1618637720,\n",
       "         313348288, 1759021695, 1257531615, 1894691396,  633595999,\n",
       "         277911782, 2888877892,  754041196,  596153201,  860875494,\n",
       "        1357762631,  166777895, 3169724154, 1853747956, 2331579101,\n",
       "         674343779, 3078970446, 3484893278, 2404442584,  753425687,\n",
       "         413740543,  585720818, 2778883243,  141595745, 1455966493,\n",
       "        3229925428, 2160743619, 1759458551, 1040429133, 1156928431,\n",
       "        3469962907, 2463121384, 1711610626, 4260604666, 3387392895,\n",
       "        2179649059, 2537239159, 3455512121, 2326953889, 1298812865,\n",
       "        2250651913,  394484383, 2529495535, 2556070590, 2213935959,\n",
       "        3128320365, 4165103600, 1145679963, 3555337818, 2519290924,\n",
       "        1578684087, 3456688799, 3705751644,  388911285, 3927582722,\n",
       "        2110746769, 4202792330, 2291183698, 2239656596,   37721189,\n",
       "         257238030, 1245432162, 2453165222, 1586121904, 3473133845,\n",
       "         110269945, 2006769111,  797121002, 1351132314, 1109373507,\n",
       "        2088008998, 3613334834, 4248776122, 4204861111, 4163105310,\n",
       "        2432689708, 3172771906, 3558712907, 2965718524, 3439542121,\n",
       "         810252579, 1632194053,  508225957, 3090473928, 1507431483,\n",
       "         821266929,  868203693,  576525529, 1830213360, 3400173860,\n",
       "        2763433237, 1641138831, 1808036063, 1689074771, 3991437169,\n",
       "        3928513551, 3571576840, 2919266550, 3986215361, 1208367745,\n",
       "        1615245374, 3682835199, 2370668204, 3666007290, 3512113951,\n",
       "        2536570988, 2271455901, 2394039744, 2961670444, 3484706928,\n",
       "         967947899, 1416229732, 1777592168, 1439923537, 4020215272,\n",
       "         698778521,  398038424, 3263907293, 3423301436, 2922476564,\n",
       "        3043453414, 1125441570, 2668077905, 4136794133, 3795869566,\n",
       "         830007236, 1077029929, 2876962532, 3810159807, 3538413568,\n",
       "        2382215078, 1433287777, 3345133731, 2561071811, 2039373425,\n",
       "        3767190494,  217463164, 4049393364,  988858874, 1130503734,\n",
       "        2577410647, 2157993025, 3595318537,  510818036,  590872773,\n",
       "        2942432516, 2357337645, 1228180287, 1455271125, 2358970246,\n",
       "        4188775319, 3045628838, 4115584823, 2960358357, 2113729246,\n",
       "        1265830154, 1993420559, 1244030922, 3038397210, 1700255907,\n",
       "         808758390, 3651965800, 2474995063, 1706904150, 1958530408,\n",
       "        1436836346, 3451010724, 2002071392, 2091312743,  675998489,\n",
       "        2938160418, 3932925453, 1228315604,  334974809, 1485008973,\n",
       "        2273994574, 1234442294, 4078933367, 1617956720, 2774820974,\n",
       "        3471840349, 1510126269, 2424097553, 1786454424,   59392321,\n",
       "         808249918,  614447435, 1599642057, 1980525880,  611265476,\n",
       "        2811166591,  379560580, 3136994198, 2654448069, 2633548236,\n",
       "         154957866, 2939833390, 2651196088, 4108865203, 4026869906,\n",
       "        2503362891, 4108016211, 2187239769,  246687007, 1530091840,\n",
       "        1035005937, 4089198837,   23609999, 3856198671, 1008780254,\n",
       "        2861787303, 2390359299, 3737510007, 2373244232,  308108091,\n",
       "        2216340762,  210511449,  135590286, 2775436616, 3851399862,\n",
       "        3334186291, 2724882655, 3024004258, 3992397606, 1580016820,\n",
       "         670065392, 1915733630,  165644811, 3676556420,  487096952,\n",
       "        3339383146,  207409275,  525121296, 2205373530,  533209077,\n",
       "        3165084302,  537347458, 1839753153, 1671280943, 1814957431,\n",
       "        1794645460, 3779989700,  674517447, 2289892231, 4286302539,\n",
       "        1304813483, 1672149021,  843732470, 1742670592, 3940816732,\n",
       "        4293673880,  119135073,  905101697, 2887380271,  760857017,\n",
       "         983840428, 3297788816, 1487388778, 4156287666, 3275732876,\n",
       "         870377096,  370520588, 2686137486, 1047446458,  484214392,\n",
       "         901449046, 3466515958, 1509485846,  843521803, 1729056685,\n",
       "         610429042, 3717201770,  258835334, 3528141912,  573987039,\n",
       "        1869067118, 1595528324, 4065324451, 1952031101, 2427280271,\n",
       "        4252751211, 2990064170, 2364707867, 3959375416, 1040414958,\n",
       "        2399537581, 2638101277, 2638427409,  533408097, 2714151421,\n",
       "         170043601, 2289740312, 2428020584, 2752649987, 1795336249,\n",
       "        1083355380, 3710774281, 2407651263,  445379550,  780938488,\n",
       "        3049276103, 2593011929, 3917306415,  559847049, 2769794916,\n",
       "         398082386, 1542071679, 3769296691, 1710246550,  440177552,\n",
       "        1017890312, 3181481051, 3842603779, 3068929895], dtype=uint32), 400, 0, 0.0)"
      ]
     },
     "execution_count": 36,
     "metadata": {},
     "output_type": "execute_result"
    }
   ],
   "source": [
    "# Return a tuple representing the internal state of the generator.\n",
    "import numpy\n",
    "numpy.random.get_state()"
   ]
  },
  {
   "cell_type": "markdown",
   "metadata": {},
   "source": [
    "--------------------------------"
   ]
  },
  {
   "cell_type": "markdown",
   "metadata": {},
   "source": [
    "## Summary"
   ]
  },
  {
   "cell_type": "markdown",
   "metadata": {},
   "source": [
    "Having studied and investigated that numpy.random package, I have come to appreciate just how indepth and valuable it is as a numerical package to the engineering and mathematical sector of the world.<br><br>\n",
    "My time with this package although short, I intend to revisit and improve my knowledge and skill when it comes to this package for future use.<br>\n",
    "In my own opinion there is no area of the package that is superior as all the different aspects have different functions and importance for such.<br>\n",
    "\n",
    "##### *Lessons learned:*<br>\n",
    "* I was using HTML to edit titles, create lists and add bold & italics. The HTML titles did not appear when viewing the notebook on GitHub. Upon researching, I located the Mastering Markdown alternative for creating lists, adding bold and italics to use in the content instead. Also I used the Markdown heading option of using #'s instead.<br>\n",
    "* Links within the Table of Contents also are not working, I have left them in the body for visibililty. Also have a 'back to top' link at the end of the document which also does not work in GitHub but will work in Jupyter itself. I tried wrapping the label around a title and also tried entering it in seperate cells. I am going to revisit this in the future for further improvement."
   ]
  },
  {
   "cell_type": "markdown",
   "metadata": {},
   "source": [
    "----------------------------"
   ]
  },
  {
   "cell_type": "markdown",
   "metadata": {},
   "source": [
    "<a id=\"technology\"></a>"
   ]
  },
  {
   "cell_type": "markdown",
   "metadata": {},
   "source": [
    "## Technology Used"
   ]
  },
  {
   "cell_type": "markdown",
   "metadata": {},
   "source": [
    "* Anaconda software package\n",
    "* Python Programming Language\n",
    "* Command Prompt\n",
    "* Jupyter Notebook\n",
    "* GitHub.com\n",
    "* LearnOnline (GMIT)"
   ]
  },
  {
   "cell_type": "markdown",
   "metadata": {},
   "source": [
    "-----------------------------------"
   ]
  },
  {
   "cell_type": "markdown",
   "metadata": {},
   "source": [
    "<a id=\"references\"></a>"
   ]
  },
  {
   "cell_type": "markdown",
   "metadata": {},
   "source": [
    "## References"
   ]
  },
  {
   "cell_type": "markdown",
   "metadata": {},
   "source": [
    "1. https://docs.scipy.org/doc/numpy-1.15.1/reference/routines.random.html\n",
    "1. https://sebastianraschka.com/Articles/2014_ipython_internal_links.html\n",
    "1. https://en.wikipedia.org/wiki/NumPy\n",
    "1. https://docs.scipy.org/doc/numpy-1.13.0/user/whatisnumpy.html\n",
    "1. https://www.numpy.org/devdocs/reference/routines.random.html#routines-random\n",
    "1. https://machinelearningmastery.com/how-to-generate-random-numbers-in-python/\n",
    "1. https://www.geeksforgeeks.org/numpy-random-rand-python/\n",
    "1. https://www.numpy.org/devdocs/reference/generated/numpy.random.choice.html#numpy.random.choice \n",
    "1. https://het.as.utexas.edu/HET/Software/Numpy/reference/generated/numpy.random.choice.html\n",
    "1. https://www.geeksforgeeks.org/permutation-and-combination-in-python/\n",
    "1. https://docs.scipy.org/doc/numpy-1.15.1/reference/generated/numpy.random.permutation.html\n",
    "1. https://www.numpy.org/devdocs/reference/generated/numpy.random.uniform.html#numpy.random.uniform \n",
    "1. https://en.wikipedia.org/wiki/Geometric_distribution\n",
    "1. https://docs.scipy.org/doc/numpy-1.15.1/reference/generated/numpy.random.geometric.html#numpy.random.geometric\n",
    "1. https://het.as.utexas.edu/HET/Software/Numpy/reference/generated/numpy.random.f.html\n",
    "1. https://docs.scipy.org/doc/numpy-1.15.1/reference/generated/numpy.random.wald.html#numpy.random.wald\n",
    "1. https://docs.scipy.org/doc/numpy-1.15.0/reference/generated/numpy.random.gamma.html\n",
    "1. https://docs.scipy.org/doc/numpy-1.15.1/reference/generated/numpy.random.gamma.html#numpy.random.gamma\n",
    "1. https://guides.github.com/features/mastering-markdown/\n",
    "1. https://www.quora.com/What-is-seed-in-random-number-generation\n",
    "1. https://www.packtpub.com/mapt/book/big_data_and_business_intelligence/9781785285110/2/ch02lvl1sec16/numpy-random-numbers \n",
    "1. https://engineering.mit.edu/engage/ask-an-engineer/can-a-computer-generate-a-truly-random-number/\n",
    "1. https://www.dummies.com/education/math/statistics/what-the-distribution-tells-you-about-a-statistical-data-set/"
   ]
  },
  {
   "cell_type": "markdown",
   "metadata": {},
   "source": [
    "[Back to Top](#top)"
   ]
  }
 ],
 "metadata": {
  "kernelspec": {
   "display_name": "Python 3",
   "language": "python",
   "name": "python3"
  },
  "language_info": {
   "codemirror_mode": {
    "name": "ipython",
    "version": 3
   },
   "file_extension": ".py",
   "mimetype": "text/x-python",
   "name": "python",
   "nbconvert_exporter": "python",
   "pygments_lexer": "ipython3",
   "version": "3.7.0"
  }
 },
 "nbformat": 4,
 "nbformat_minor": 2
}
